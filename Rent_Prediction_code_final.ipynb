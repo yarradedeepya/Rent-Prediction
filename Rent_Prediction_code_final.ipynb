{
 "cells": [
  {
   "cell_type": "code",
   "execution_count": 111,
   "id": "bc4ecde3",
   "metadata": {},
   "outputs": [],
   "source": [
    "import pandas as pd"
   ]
  },
  {
   "cell_type": "code",
   "execution_count": 112,
   "id": "2654d3dd",
   "metadata": {},
   "outputs": [],
   "source": [
    "data = pd.read_csv('RentPrediction-Dataset.csv')"
   ]
  },
  {
   "cell_type": "code",
   "execution_count": 113,
   "id": "db591bd6",
   "metadata": {},
   "outputs": [
    {
     "data": {
      "text/html": [
       "<div>\n",
       "<style scoped>\n",
       "    .dataframe tbody tr th:only-of-type {\n",
       "        vertical-align: middle;\n",
       "    }\n",
       "\n",
       "    .dataframe tbody tr th {\n",
       "        vertical-align: top;\n",
       "    }\n",
       "\n",
       "    .dataframe thead th {\n",
       "        text-align: right;\n",
       "    }\n",
       "</style>\n",
       "<table border=\"1\" class=\"dataframe\">\n",
       "  <thead>\n",
       "    <tr style=\"text-align: right;\">\n",
       "      <th></th>\n",
       "      <th>Unnamed: 0</th>\n",
       "      <th>City</th>\n",
       "      <th>Names</th>\n",
       "      <th>Bed</th>\n",
       "      <th>Bath</th>\n",
       "      <th>Area</th>\n",
       "      <th>Rating</th>\n",
       "      <th>location</th>\n",
       "      <th>petsallowed</th>\n",
       "      <th>pool</th>\n",
       "      <th>fitnessCenter</th>\n",
       "      <th>gated</th>\n",
       "      <th>grill</th>\n",
       "      <th>closet</th>\n",
       "      <th>washerdryer</th>\n",
       "      <th>countertops</th>\n",
       "      <th>access</th>\n",
       "      <th>Rent</th>\n",
       "    </tr>\n",
       "  </thead>\n",
       "  <tbody>\n",
       "    <tr>\n",
       "      <th>0</th>\n",
       "      <td>0</td>\n",
       "      <td>denton</td>\n",
       "      <td>Eighteen 51 Brinker</td>\n",
       "      <td>1-3</td>\n",
       "      <td>?</td>\n",
       "      <td>700-1,350</td>\n",
       "      <td>3.2857142857142856</td>\n",
       "      <td>1851 Brinker Rd,  Denton, TX 76208</td>\n",
       "      <td>1</td>\n",
       "      <td>1</td>\n",
       "      <td>1</td>\n",
       "      <td>?</td>\n",
       "      <td>1</td>\n",
       "      <td>1</td>\n",
       "      <td>1</td>\n",
       "      <td>1</td>\n",
       "      <td>1</td>\n",
       "      <td>1,449-2,499</td>\n",
       "    </tr>\n",
       "    <tr>\n",
       "      <th>1</th>\n",
       "      <td>1</td>\n",
       "      <td>denton</td>\n",
       "      <td>Elan Denton</td>\n",
       "      <td>1-3</td>\n",
       "      <td>?</td>\n",
       "      <td>630-1,404</td>\n",
       "      <td>3.142857142857143</td>\n",
       "      <td>1501 Northstar Rd,  Denton, TX 76208</td>\n",
       "      <td>1</td>\n",
       "      <td>1</td>\n",
       "      <td>1</td>\n",
       "      <td>?</td>\n",
       "      <td>1</td>\n",
       "      <td>1</td>\n",
       "      <td>0</td>\n",
       "      <td>1</td>\n",
       "      <td>1</td>\n",
       "      <td>1,534-2,420</td>\n",
       "    </tr>\n",
       "    <tr>\n",
       "      <th>2</th>\n",
       "      <td>2</td>\n",
       "      <td>denton</td>\n",
       "      <td>Epic Apartments</td>\n",
       "      <td>1-3</td>\n",
       "      <td>?</td>\n",
       "      <td>633-1,180</td>\n",
       "      <td>3.5714285714285716</td>\n",
       "      <td>3200 S Interstate 35 E,  Denton, TX 76210</td>\n",
       "      <td>0</td>\n",
       "      <td>1</td>\n",
       "      <td>1</td>\n",
       "      <td>?</td>\n",
       "      <td>1</td>\n",
       "      <td>1</td>\n",
       "      <td>0</td>\n",
       "      <td>1</td>\n",
       "      <td>1</td>\n",
       "      <td>1,240-1,350</td>\n",
       "    </tr>\n",
       "    <tr>\n",
       "      <th>3</th>\n",
       "      <td>3</td>\n",
       "      <td>denton</td>\n",
       "      <td>Epoch on Eagle</td>\n",
       "      <td>Studio-2</td>\n",
       "      <td>?</td>\n",
       "      <td>507-1,177</td>\n",
       "      <td>3.4285714285714284</td>\n",
       "      <td>903 Avenue C,  Denton, TX 76201</td>\n",
       "      <td>1</td>\n",
       "      <td>1</td>\n",
       "      <td>1</td>\n",
       "      <td>?</td>\n",
       "      <td>1</td>\n",
       "      <td>1</td>\n",
       "      <td>0</td>\n",
       "      <td>0</td>\n",
       "      <td>1</td>\n",
       "      <td>1,350-2,479</td>\n",
       "    </tr>\n",
       "    <tr>\n",
       "      <th>4</th>\n",
       "      <td>4</td>\n",
       "      <td>denton</td>\n",
       "      <td>32hundred Windsor</td>\n",
       "      <td>1-2</td>\n",
       "      <td>?</td>\n",
       "      <td>812-1,185</td>\n",
       "      <td>3.0</td>\n",
       "      <td>3200 W Windsor Dr,  Denton, TX 76207</td>\n",
       "      <td>0</td>\n",
       "      <td>1</td>\n",
       "      <td>1</td>\n",
       "      <td>?</td>\n",
       "      <td>0</td>\n",
       "      <td>1</td>\n",
       "      <td>0</td>\n",
       "      <td>0</td>\n",
       "      <td>1</td>\n",
       "      <td>1,395-2,970</td>\n",
       "    </tr>\n",
       "  </tbody>\n",
       "</table>\n",
       "</div>"
      ],
      "text/plain": [
       "   Unnamed: 0    City                Names        Bed Bath        Area  \\\n",
       "0           0  denton  Eighteen 51 Brinker       1-3     ?  700-1,350    \n",
       "1           1  denton          Elan Denton       1-3     ?  630-1,404    \n",
       "2           2  denton      Epic Apartments       1-3     ?  633-1,180    \n",
       "3           3  denton       Epoch on Eagle  Studio-2     ?  507-1,177    \n",
       "4           4  denton    32hundred Windsor       1-2     ?  812-1,185    \n",
       "\n",
       "               Rating                                   location petsallowed  \\\n",
       "0  3.2857142857142856         1851 Brinker Rd,  Denton, TX 76208           1   \n",
       "1   3.142857142857143       1501 Northstar Rd,  Denton, TX 76208           1   \n",
       "2  3.5714285714285716  3200 S Interstate 35 E,  Denton, TX 76210           0   \n",
       "3  3.4285714285714284            903 Avenue C,  Denton, TX 76201           1   \n",
       "4                 3.0       3200 W Windsor Dr,  Denton, TX 76207           0   \n",
       "\n",
       "  pool fitnessCenter gated grill closet washerdryer countertops access  \\\n",
       "0    1             1     ?     1      1           1           1      1   \n",
       "1    1             1     ?     1      1           0           1      1   \n",
       "2    1             1     ?     1      1           0           1      1   \n",
       "3    1             1     ?     1      1           0           0      1   \n",
       "4    1             1     ?     0      1           0           0      1   \n",
       "\n",
       "          Rent  \n",
       "0  1,449-2,499  \n",
       "1  1,534-2,420  \n",
       "2  1,240-1,350  \n",
       "3  1,350-2,479  \n",
       "4  1,395-2,970  "
      ]
     },
     "execution_count": 113,
     "metadata": {},
     "output_type": "execute_result"
    }
   ],
   "source": [
    "data.head()"
   ]
  },
  {
   "cell_type": "code",
   "execution_count": 114,
   "id": "b4a4ed6b",
   "metadata": {},
   "outputs": [],
   "source": [
    "data=data.drop([\"Unnamed: 0\"], axis = 1)\n",
    "data=data.drop([\"City\"], axis = 1)\n",
    "data=data.drop([\"Names\"], axis = 1)\n",
    "data=data.drop([\"Bath\"], axis = 1)\n",
    "data=data.drop([\"location\"], axis = 1)\n",
    "data=data.drop([\"gated\"], axis = 1)"
   ]
  },
  {
   "cell_type": "code",
   "execution_count": 115,
   "id": "0de275e1",
   "metadata": {},
   "outputs": [
    {
     "data": {
      "text/html": [
       "<div>\n",
       "<style scoped>\n",
       "    .dataframe tbody tr th:only-of-type {\n",
       "        vertical-align: middle;\n",
       "    }\n",
       "\n",
       "    .dataframe tbody tr th {\n",
       "        vertical-align: top;\n",
       "    }\n",
       "\n",
       "    .dataframe thead th {\n",
       "        text-align: right;\n",
       "    }\n",
       "</style>\n",
       "<table border=\"1\" class=\"dataframe\">\n",
       "  <thead>\n",
       "    <tr style=\"text-align: right;\">\n",
       "      <th></th>\n",
       "      <th>Bed</th>\n",
       "      <th>Area</th>\n",
       "      <th>Rating</th>\n",
       "      <th>petsallowed</th>\n",
       "      <th>pool</th>\n",
       "      <th>fitnessCenter</th>\n",
       "      <th>grill</th>\n",
       "      <th>closet</th>\n",
       "      <th>washerdryer</th>\n",
       "      <th>countertops</th>\n",
       "      <th>access</th>\n",
       "      <th>Rent</th>\n",
       "    </tr>\n",
       "  </thead>\n",
       "  <tbody>\n",
       "    <tr>\n",
       "      <th>0</th>\n",
       "      <td>1-3</td>\n",
       "      <td>700-1,350</td>\n",
       "      <td>3.2857142857142856</td>\n",
       "      <td>1</td>\n",
       "      <td>1</td>\n",
       "      <td>1</td>\n",
       "      <td>1</td>\n",
       "      <td>1</td>\n",
       "      <td>1</td>\n",
       "      <td>1</td>\n",
       "      <td>1</td>\n",
       "      <td>1,449-2,499</td>\n",
       "    </tr>\n",
       "    <tr>\n",
       "      <th>1</th>\n",
       "      <td>1-3</td>\n",
       "      <td>630-1,404</td>\n",
       "      <td>3.142857142857143</td>\n",
       "      <td>1</td>\n",
       "      <td>1</td>\n",
       "      <td>1</td>\n",
       "      <td>1</td>\n",
       "      <td>1</td>\n",
       "      <td>0</td>\n",
       "      <td>1</td>\n",
       "      <td>1</td>\n",
       "      <td>1,534-2,420</td>\n",
       "    </tr>\n",
       "    <tr>\n",
       "      <th>2</th>\n",
       "      <td>1-3</td>\n",
       "      <td>633-1,180</td>\n",
       "      <td>3.5714285714285716</td>\n",
       "      <td>0</td>\n",
       "      <td>1</td>\n",
       "      <td>1</td>\n",
       "      <td>1</td>\n",
       "      <td>1</td>\n",
       "      <td>0</td>\n",
       "      <td>1</td>\n",
       "      <td>1</td>\n",
       "      <td>1,240-1,350</td>\n",
       "    </tr>\n",
       "    <tr>\n",
       "      <th>3</th>\n",
       "      <td>Studio-2</td>\n",
       "      <td>507-1,177</td>\n",
       "      <td>3.4285714285714284</td>\n",
       "      <td>1</td>\n",
       "      <td>1</td>\n",
       "      <td>1</td>\n",
       "      <td>1</td>\n",
       "      <td>1</td>\n",
       "      <td>0</td>\n",
       "      <td>0</td>\n",
       "      <td>1</td>\n",
       "      <td>1,350-2,479</td>\n",
       "    </tr>\n",
       "    <tr>\n",
       "      <th>4</th>\n",
       "      <td>1-2</td>\n",
       "      <td>812-1,185</td>\n",
       "      <td>3.0</td>\n",
       "      <td>0</td>\n",
       "      <td>1</td>\n",
       "      <td>1</td>\n",
       "      <td>0</td>\n",
       "      <td>1</td>\n",
       "      <td>0</td>\n",
       "      <td>0</td>\n",
       "      <td>1</td>\n",
       "      <td>1,395-2,970</td>\n",
       "    </tr>\n",
       "  </tbody>\n",
       "</table>\n",
       "</div>"
      ],
      "text/plain": [
       "         Bed        Area              Rating petsallowed pool fitnessCenter  \\\n",
       "0       1-3   700-1,350   3.2857142857142856           1    1             1   \n",
       "1       1-3   630-1,404    3.142857142857143           1    1             1   \n",
       "2       1-3   633-1,180   3.5714285714285716           0    1             1   \n",
       "3  Studio-2   507-1,177   3.4285714285714284           1    1             1   \n",
       "4       1-2   812-1,185                  3.0           0    1             1   \n",
       "\n",
       "  grill closet washerdryer countertops access         Rent  \n",
       "0     1      1           1           1      1  1,449-2,499  \n",
       "1     1      1           0           1      1  1,534-2,420  \n",
       "2     1      1           0           1      1  1,240-1,350  \n",
       "3     1      1           0           0      1  1,350-2,479  \n",
       "4     0      1           0           0      1  1,395-2,970  "
      ]
     },
     "execution_count": 115,
     "metadata": {},
     "output_type": "execute_result"
    }
   ],
   "source": [
    "data.head()"
   ]
  },
  {
   "cell_type": "code",
   "execution_count": 116,
   "id": "15bcc379",
   "metadata": {},
   "outputs": [
    {
     "data": {
      "text/plain": [
       "Bed              0\n",
       "Area             0\n",
       "Rating           0\n",
       "petsallowed      0\n",
       "pool             0\n",
       "fitnessCenter    0\n",
       "grill            0\n",
       "closet           0\n",
       "washerdryer      0\n",
       "countertops      0\n",
       "access           0\n",
       "Rent             0\n",
       "dtype: int64"
      ]
     },
     "execution_count": 116,
     "metadata": {},
     "output_type": "execute_result"
    }
   ],
   "source": [
    "data.isnull().sum()"
   ]
  },
  {
   "cell_type": "code",
   "execution_count": 117,
   "id": "a11341f5",
   "metadata": {},
   "outputs": [
    {
     "data": {
      "text/plain": [
       "Bed              object\n",
       "Area             object\n",
       "Rating           object\n",
       "petsallowed      object\n",
       "pool             object\n",
       "fitnessCenter    object\n",
       "grill            object\n",
       "closet           object\n",
       "washerdryer      object\n",
       "countertops      object\n",
       "access           object\n",
       "Rent             object\n",
       "dtype: object"
      ]
     },
     "execution_count": 117,
     "metadata": {},
     "output_type": "execute_result"
    }
   ],
   "source": [
    "data.dtypes"
   ]
  },
  {
   "cell_type": "code",
   "execution_count": 118,
   "id": "267f76f9",
   "metadata": {},
   "outputs": [],
   "source": [
    "import warnings\n",
    "warnings.filterwarnings(\"ignore\")"
   ]
  },
  {
   "cell_type": "code",
   "execution_count": 119,
   "id": "95a41de1",
   "metadata": {},
   "outputs": [],
   "source": [
    "##Dealing with range values of area\n",
    "for i in range(len(data['Area'])):\n",
    "    k=str(data['Area'][i])\n",
    "    if \"-\" in k:\n",
    "        m=k.find('-')\n",
    "        n=len(k)\n",
    "        a=k[0:m]\n",
    "        b=k[m+1:n]\n",
    "        a=a.replace(',','').replace(' ','')\n",
    "        b=b.replace(',','').replace(' ','')\n",
    "        avg=(float(a)+float(b))/2\n",
    "        avg=str(avg)\n",
    "        data['Area'][i]=avg\n",
    "    elif \",\" in k:\n",
    "        c=k.replace(',','').replace(' ','')\n",
    "        data['Area'][i]=c"
   ]
  },
  {
   "cell_type": "code",
   "execution_count": 120,
   "id": "15e6ea26",
   "metadata": {},
   "outputs": [],
   "source": [
    "## Dealing with range values of rent\n",
    "for i in range(len(data['Rent'])):\n",
    "    k=str(data['Rent'][i])\n",
    "    if \"-\" in k:\n",
    "        m=k.find('-')\n",
    "        n=len(k)\n",
    "        a=k[0:m]\n",
    "        b=k[m+1:n]\n",
    "        a=a.replace(',','').replace(' ','')\n",
    "        b=b.replace(',','').replace(' ','')\n",
    "        avg=(float(a)+float(b))/2\n",
    "        avg=str(avg)\n",
    "        data['Rent'][i]=avg\n",
    "    elif \",\" in k:\n",
    "        c=k.replace(',','').replace(' ','')\n",
    "        data['Rent'][i]=c   "
   ]
  },
  {
   "cell_type": "code",
   "execution_count": 121,
   "id": "e1cdf4db",
   "metadata": {},
   "outputs": [
    {
     "data": {
      "text/plain": [
       "0       1974.0\n",
       "1       1977.0\n",
       "2       1295.0\n",
       "3       1914.5\n",
       "4       2182.5\n",
       "         ...  \n",
       "2047    1473.5\n",
       "2048    1679.0\n",
       "2049    1378.0\n",
       "2050    1737.5\n",
       "2051    1422.0\n",
       "Name: Rent, Length: 2052, dtype: object"
      ]
     },
     "execution_count": 121,
     "metadata": {},
     "output_type": "execute_result"
    }
   ],
   "source": [
    "data['Rent']"
   ]
  },
  {
   "cell_type": "code",
   "execution_count": 122,
   "id": "3d029847",
   "metadata": {},
   "outputs": [
    {
     "data": {
      "text/plain": [
       "Bed              object\n",
       "Area             object\n",
       "Rating           object\n",
       "petsallowed      object\n",
       "pool             object\n",
       "fitnessCenter    object\n",
       "grill            object\n",
       "closet           object\n",
       "washerdryer      object\n",
       "countertops      object\n",
       "access           object\n",
       "Rent             object\n",
       "dtype: object"
      ]
     },
     "execution_count": 122,
     "metadata": {},
     "output_type": "execute_result"
    }
   ],
   "source": [
    "data.dtypes"
   ]
  },
  {
   "cell_type": "code",
   "execution_count": 123,
   "id": "b66a9896",
   "metadata": {},
   "outputs": [
    {
     "data": {
      "text/plain": [
       "array(['1-3 ', 'Studio-2 ', '1-2 ', '1-4 ', '3-4 ', 'Studio-4 ', '2-4 ',\n",
       "       '3 ', 'Studio-3 ', '2 ', '2-5 ', '1 ', '2-3 ', 'Studio-1 ', '?',\n",
       "       'Studio '], dtype=object)"
      ]
     },
     "execution_count": 123,
     "metadata": {},
     "output_type": "execute_result"
    }
   ],
   "source": [
    " data['Bed'].unique()"
   ]
  },
  {
   "cell_type": "code",
   "execution_count": 124,
   "id": "66932c8b",
   "metadata": {},
   "outputs": [],
   "source": [
    "## label encoding the bed\n",
    "from sklearn.preprocessing import LabelEncoder\n",
    "labelencoder = LabelEncoder()\n",
    "data['Bed'] = labelencoder.fit_transform(data['Bed'])"
   ]
  },
  {
   "cell_type": "code",
   "execution_count": 125,
   "id": "38ec1ec9",
   "metadata": {},
   "outputs": [
    {
     "data": {
      "text/plain": [
       "array([ 2, 13,  1,  3,  9, 15,  6,  8, 14,  4,  7,  0,  5, 12, 10, 11])"
      ]
     },
     "execution_count": 125,
     "metadata": {},
     "output_type": "execute_result"
    }
   ],
   "source": [
    "data['Bed'].unique()"
   ]
  },
  {
   "cell_type": "code",
   "execution_count": 126,
   "id": "897b677e",
   "metadata": {},
   "outputs": [
    {
     "data": {
      "text/html": [
       "<div>\n",
       "<style scoped>\n",
       "    .dataframe tbody tr th:only-of-type {\n",
       "        vertical-align: middle;\n",
       "    }\n",
       "\n",
       "    .dataframe tbody tr th {\n",
       "        vertical-align: top;\n",
       "    }\n",
       "\n",
       "    .dataframe thead th {\n",
       "        text-align: right;\n",
       "    }\n",
       "</style>\n",
       "<table border=\"1\" class=\"dataframe\">\n",
       "  <thead>\n",
       "    <tr style=\"text-align: right;\">\n",
       "      <th></th>\n",
       "      <th>Bed</th>\n",
       "      <th>Area</th>\n",
       "      <th>Rating</th>\n",
       "      <th>petsallowed</th>\n",
       "      <th>pool</th>\n",
       "      <th>fitnessCenter</th>\n",
       "      <th>grill</th>\n",
       "      <th>closet</th>\n",
       "      <th>washerdryer</th>\n",
       "      <th>countertops</th>\n",
       "      <th>access</th>\n",
       "      <th>Rent</th>\n",
       "    </tr>\n",
       "  </thead>\n",
       "  <tbody>\n",
       "    <tr>\n",
       "      <th>0</th>\n",
       "      <td>2</td>\n",
       "      <td>1025.0</td>\n",
       "      <td>3.2857142857142856</td>\n",
       "      <td>1</td>\n",
       "      <td>1</td>\n",
       "      <td>1</td>\n",
       "      <td>1</td>\n",
       "      <td>1</td>\n",
       "      <td>1</td>\n",
       "      <td>1</td>\n",
       "      <td>1</td>\n",
       "      <td>1974.0</td>\n",
       "    </tr>\n",
       "    <tr>\n",
       "      <th>1</th>\n",
       "      <td>2</td>\n",
       "      <td>1017.0</td>\n",
       "      <td>3.142857142857143</td>\n",
       "      <td>1</td>\n",
       "      <td>1</td>\n",
       "      <td>1</td>\n",
       "      <td>1</td>\n",
       "      <td>1</td>\n",
       "      <td>0</td>\n",
       "      <td>1</td>\n",
       "      <td>1</td>\n",
       "      <td>1977.0</td>\n",
       "    </tr>\n",
       "    <tr>\n",
       "      <th>2</th>\n",
       "      <td>2</td>\n",
       "      <td>906.5</td>\n",
       "      <td>3.5714285714285716</td>\n",
       "      <td>0</td>\n",
       "      <td>1</td>\n",
       "      <td>1</td>\n",
       "      <td>1</td>\n",
       "      <td>1</td>\n",
       "      <td>0</td>\n",
       "      <td>1</td>\n",
       "      <td>1</td>\n",
       "      <td>1295.0</td>\n",
       "    </tr>\n",
       "    <tr>\n",
       "      <th>3</th>\n",
       "      <td>13</td>\n",
       "      <td>842.0</td>\n",
       "      <td>3.4285714285714284</td>\n",
       "      <td>1</td>\n",
       "      <td>1</td>\n",
       "      <td>1</td>\n",
       "      <td>1</td>\n",
       "      <td>1</td>\n",
       "      <td>0</td>\n",
       "      <td>0</td>\n",
       "      <td>1</td>\n",
       "      <td>1914.5</td>\n",
       "    </tr>\n",
       "    <tr>\n",
       "      <th>4</th>\n",
       "      <td>1</td>\n",
       "      <td>998.5</td>\n",
       "      <td>3.0</td>\n",
       "      <td>0</td>\n",
       "      <td>1</td>\n",
       "      <td>1</td>\n",
       "      <td>0</td>\n",
       "      <td>1</td>\n",
       "      <td>0</td>\n",
       "      <td>0</td>\n",
       "      <td>1</td>\n",
       "      <td>2182.5</td>\n",
       "    </tr>\n",
       "  </tbody>\n",
       "</table>\n",
       "</div>"
      ],
      "text/plain": [
       "   Bed    Area              Rating petsallowed pool fitnessCenter grill  \\\n",
       "0    2  1025.0  3.2857142857142856           1    1             1     1   \n",
       "1    2  1017.0   3.142857142857143           1    1             1     1   \n",
       "2    2   906.5  3.5714285714285716           0    1             1     1   \n",
       "3   13   842.0  3.4285714285714284           1    1             1     1   \n",
       "4    1   998.5                 3.0           0    1             1     0   \n",
       "\n",
       "  closet washerdryer countertops access    Rent  \n",
       "0      1           1           1      1  1974.0  \n",
       "1      1           0           1      1  1977.0  \n",
       "2      1           0           1      1  1295.0  \n",
       "3      1           0           0      1  1914.5  \n",
       "4      1           0           0      1  2182.5  "
      ]
     },
     "execution_count": 126,
     "metadata": {},
     "output_type": "execute_result"
    }
   ],
   "source": [
    "data.head()"
   ]
  },
  {
   "cell_type": "code",
   "execution_count": 128,
   "id": "6c3df7df",
   "metadata": {},
   "outputs": [],
   "source": [
    "import numpy as np\n",
    "data = data.replace('?', np.nan)\n",
    "data = data.replace('nan', np.nan)\n",
    "data = data.replace('Call for Rent', np.nan)\n",
    "data = data.replace('Contact for Rates', np.nan)\n",
    "data = data.replace(',', '')"
   ]
  },
  {
   "cell_type": "code",
   "execution_count": 129,
   "id": "3d64fdc1",
   "metadata": {},
   "outputs": [
    {
     "data": {
      "text/plain": [
       "Bed                0\n",
       "Area             171\n",
       "Rating           159\n",
       "petsallowed      321\n",
       "pool              94\n",
       "fitnessCenter     94\n",
       "grill             94\n",
       "closet            94\n",
       "washerdryer       94\n",
       "countertops       94\n",
       "access            94\n",
       "Rent             191\n",
       "dtype: int64"
      ]
     },
     "execution_count": 129,
     "metadata": {},
     "output_type": "execute_result"
    }
   ],
   "source": [
    "data.isnull().sum()"
   ]
  },
  {
   "cell_type": "code",
   "execution_count": 132,
   "id": "cfd2716f",
   "metadata": {},
   "outputs": [],
   "source": [
    "# we will replace the caatgeroical null data  data with the mode\n",
    "data['Area'].fillna(data['Area'].mode()[0], inplace=True)\n",
    "data['Rating'].fillna(data['Rating'].mode()[0], inplace=True)\n",
    "data['petsallowed'].fillna(data['petsallowed'].mode()[0], inplace=True)\n",
    "data['pool'].fillna(data['pool'].mode()[0], inplace=True)\n",
    "data['fitnessCenter'].fillna(data['fitnessCenter'].mode()[0], inplace=True)\n",
    "data['grill'].fillna(data['grill'].mode()[0], inplace=True)\n",
    "data['closet'].fillna(data['closet'].mode()[0], inplace=True)\n",
    "data['washerdryer'].fillna(data['washerdryer'].mode()[0], inplace=True)\n",
    "data['countertops'].fillna(data['countertops'].mode()[0], inplace=True)\n",
    "data['access'].fillna(data['access'].mode()[0], inplace=True)\n",
    "data['Rent'].fillna(data['Rent'].mode()[0], inplace=True)"
   ]
  },
  {
   "cell_type": "code",
   "execution_count": 173,
   "id": "7dcf7464",
   "metadata": {},
   "outputs": [
    {
     "data": {
      "text/plain": [
       "Bed              0\n",
       "Area             0\n",
       "Rating           0\n",
       "petsallowed      0\n",
       "pool             0\n",
       "fitnessCenter    0\n",
       "grill            0\n",
       "closet           0\n",
       "washerdryer      0\n",
       "countertops      0\n",
       "access           0\n",
       "Rent             0\n",
       "dtype: int64"
      ]
     },
     "execution_count": 173,
     "metadata": {},
     "output_type": "execute_result"
    }
   ],
   "source": [
    "data.isnull().sum()"
   ]
  },
  {
   "cell_type": "code",
   "execution_count": 174,
   "id": "d9f62677",
   "metadata": {},
   "outputs": [
    {
     "data": {
      "text/plain": [
       "2052"
      ]
     },
     "execution_count": 174,
     "metadata": {},
     "output_type": "execute_result"
    }
   ],
   "source": [
    "len(data['Bed'])"
   ]
  },
  {
   "cell_type": "code",
   "execution_count": 175,
   "id": "530dd396",
   "metadata": {},
   "outputs": [
    {
     "data": {
      "text/html": [
       "<div>\n",
       "<style scoped>\n",
       "    .dataframe tbody tr th:only-of-type {\n",
       "        vertical-align: middle;\n",
       "    }\n",
       "\n",
       "    .dataframe tbody tr th {\n",
       "        vertical-align: top;\n",
       "    }\n",
       "\n",
       "    .dataframe thead th {\n",
       "        text-align: right;\n",
       "    }\n",
       "</style>\n",
       "<table border=\"1\" class=\"dataframe\">\n",
       "  <thead>\n",
       "    <tr style=\"text-align: right;\">\n",
       "      <th></th>\n",
       "      <th>Bed</th>\n",
       "      <th>Area</th>\n",
       "      <th>Rating</th>\n",
       "      <th>petsallowed</th>\n",
       "      <th>pool</th>\n",
       "      <th>fitnessCenter</th>\n",
       "      <th>grill</th>\n",
       "      <th>closet</th>\n",
       "      <th>washerdryer</th>\n",
       "      <th>countertops</th>\n",
       "      <th>access</th>\n",
       "      <th>Rent</th>\n",
       "    </tr>\n",
       "  </thead>\n",
       "  <tbody>\n",
       "    <tr>\n",
       "      <th>0</th>\n",
       "      <td>2.0</td>\n",
       "      <td>1025.0</td>\n",
       "      <td>3.285714</td>\n",
       "      <td>1.0</td>\n",
       "      <td>1.0</td>\n",
       "      <td>1.0</td>\n",
       "      <td>1.0</td>\n",
       "      <td>1.0</td>\n",
       "      <td>1.0</td>\n",
       "      <td>1.0</td>\n",
       "      <td>1.0</td>\n",
       "      <td>1974.0</td>\n",
       "    </tr>\n",
       "    <tr>\n",
       "      <th>1</th>\n",
       "      <td>2.0</td>\n",
       "      <td>1017.0</td>\n",
       "      <td>3.142857</td>\n",
       "      <td>1.0</td>\n",
       "      <td>1.0</td>\n",
       "      <td>1.0</td>\n",
       "      <td>1.0</td>\n",
       "      <td>1.0</td>\n",
       "      <td>0.0</td>\n",
       "      <td>1.0</td>\n",
       "      <td>1.0</td>\n",
       "      <td>1977.0</td>\n",
       "    </tr>\n",
       "    <tr>\n",
       "      <th>2</th>\n",
       "      <td>2.0</td>\n",
       "      <td>906.5</td>\n",
       "      <td>3.571429</td>\n",
       "      <td>0.0</td>\n",
       "      <td>1.0</td>\n",
       "      <td>1.0</td>\n",
       "      <td>1.0</td>\n",
       "      <td>1.0</td>\n",
       "      <td>0.0</td>\n",
       "      <td>1.0</td>\n",
       "      <td>1.0</td>\n",
       "      <td>1295.0</td>\n",
       "    </tr>\n",
       "    <tr>\n",
       "      <th>3</th>\n",
       "      <td>13.0</td>\n",
       "      <td>842.0</td>\n",
       "      <td>3.428571</td>\n",
       "      <td>1.0</td>\n",
       "      <td>1.0</td>\n",
       "      <td>1.0</td>\n",
       "      <td>1.0</td>\n",
       "      <td>1.0</td>\n",
       "      <td>0.0</td>\n",
       "      <td>0.0</td>\n",
       "      <td>1.0</td>\n",
       "      <td>1914.5</td>\n",
       "    </tr>\n",
       "    <tr>\n",
       "      <th>4</th>\n",
       "      <td>1.0</td>\n",
       "      <td>998.5</td>\n",
       "      <td>3.000000</td>\n",
       "      <td>0.0</td>\n",
       "      <td>1.0</td>\n",
       "      <td>1.0</td>\n",
       "      <td>0.0</td>\n",
       "      <td>1.0</td>\n",
       "      <td>0.0</td>\n",
       "      <td>0.0</td>\n",
       "      <td>1.0</td>\n",
       "      <td>2182.5</td>\n",
       "    </tr>\n",
       "  </tbody>\n",
       "</table>\n",
       "</div>"
      ],
      "text/plain": [
       "    Bed    Area    Rating  petsallowed  pool  fitnessCenter  grill  closet  \\\n",
       "0   2.0  1025.0  3.285714          1.0   1.0            1.0    1.0     1.0   \n",
       "1   2.0  1017.0  3.142857          1.0   1.0            1.0    1.0     1.0   \n",
       "2   2.0   906.5  3.571429          0.0   1.0            1.0    1.0     1.0   \n",
       "3  13.0   842.0  3.428571          1.0   1.0            1.0    1.0     1.0   \n",
       "4   1.0   998.5  3.000000          0.0   1.0            1.0    0.0     1.0   \n",
       "\n",
       "   washerdryer  countertops  access    Rent  \n",
       "0          1.0          1.0     1.0  1974.0  \n",
       "1          0.0          1.0     1.0  1977.0  \n",
       "2          0.0          1.0     1.0  1295.0  \n",
       "3          0.0          0.0     1.0  1914.5  \n",
       "4          0.0          0.0     1.0  2182.5  "
      ]
     },
     "execution_count": 175,
     "metadata": {},
     "output_type": "execute_result"
    }
   ],
   "source": [
    "data.head(5)"
   ]
  },
  {
   "cell_type": "code",
   "execution_count": 176,
   "id": "e46c7b31",
   "metadata": {},
   "outputs": [],
   "source": [
    "a={\n",
    "}\n",
    "\n",
    "for i in a:\n",
    "    data[i]=data[i].astype(float)"
   ]
  },
  {
   "cell_type": "code",
   "execution_count": 177,
   "id": "24479aeb",
   "metadata": {},
   "outputs": [
    {
     "data": {
      "text/plain": [
       "Bed              float64\n",
       "Area             float64\n",
       "Rating           float64\n",
       "petsallowed      float64\n",
       "pool             float64\n",
       "fitnessCenter    float64\n",
       "grill            float64\n",
       "closet           float64\n",
       "washerdryer      float64\n",
       "countertops      float64\n",
       "access           float64\n",
       "Rent             float64\n",
       "dtype: object"
      ]
     },
     "execution_count": 177,
     "metadata": {},
     "output_type": "execute_result"
    }
   ],
   "source": [
    "data.dtypes"
   ]
  },
  {
   "cell_type": "code",
   "execution_count": 192,
   "id": "ad50aa22",
   "metadata": {},
   "outputs": [
    {
     "data": {
      "text/plain": [
       "<AxesSubplot:>"
      ]
     },
     "execution_count": 192,
     "metadata": {},
     "output_type": "execute_result"
    },
    {
     "data": {
      "image/png": "[encoded data removed]",
      "text/plain": [
       "<Figure size 2880x2160 with 2 Axes>"
      ]
     },
     "metadata": {
      "needs_background": "light"
     },
     "output_type": "display_data"
    }
   ],
   "source": [
    "from matplotlib import pyplot as plt\n",
    "import seaborn as sb\n",
    "corr = data.corr()\n",
    "plt.figure(figsize=(40,30))\n",
    "sb.heatmap(corr,annot=True)"
   ]
  },
  {
   "cell_type": "code",
   "execution_count": 195,
   "id": "97d3c982",
   "metadata": {},
   "outputs": [],
   "source": [
    "## Assigning values to our predictor variable X and target varible y\n",
    "#X = data.drop(['Rent'], axis=1).values\n",
    "X= data[['Area','pool']]\n",
    "y = data[['Rent']].values"
   ]
  },
  {
   "cell_type": "code",
   "execution_count": 196,
   "id": "7d64810f",
   "metadata": {},
   "outputs": [],
   "source": [
    "from sklearn.model_selection import train_test_split\n",
    "\n",
    "X_train, X_test, y_train, y_test = train_test_split(X, y, test_size=0.25, random_state=42)"
   ]
  },
  {
   "cell_type": "code",
   "execution_count": 197,
   "id": "b98f9ce4",
   "metadata": {},
   "outputs": [],
   "source": [
    "# Standardization\n",
    "from sklearn.preprocessing import StandardScaler\n",
    "sc = StandardScaler()\n",
    "x_train_ss = sc.fit_transform(X_train)\n",
    "x_test_ss = sc.fit_transform(X_test)"
   ]
  },
  {
   "cell_type": "code",
   "execution_count": 198,
   "id": "7cc87dc2",
   "metadata": {},
   "outputs": [
    {
     "data": {
      "text/html": [
       "<style>#sk-container-id-3 {color: black;background-color: white;}#sk-container-id-3 pre{padding: 0;}#sk-container-id-3 div.sk-toggleable {background-color: white;}#sk-container-id-3 label.sk-toggleable__label {cursor: pointer;display: block;width: 100%;margin-bottom: 0;padding: 0.3em;box-sizing: border-box;text-align: center;}#sk-container-id-3 label.sk-toggleable__label-arrow:before {content: \"▸\";float: left;margin-right: 0.25em;color: #696969;}#sk-container-id-3 label.sk-toggleable__label-arrow:hover:before {color: black;}#sk-container-id-3 div.sk-estimator:hover label.sk-toggleable__label-arrow:before {color: black;}#sk-container-id-3 div.sk-toggleable__content {max-height: 0;max-width: 0;overflow: hidden;text-align: left;background-color: #f0f8ff;}#sk-container-id-3 div.sk-toggleable__content pre {margin: 0.2em;color: black;border-radius: 0.25em;background-color: #f0f8ff;}#sk-container-id-3 input.sk-toggleable__control:checked~div.sk-toggleable__content {max-height: 200px;max-width: 100%;overflow: auto;}#sk-container-id-3 input.sk-toggleable__control:checked~label.sk-toggleable__label-arrow:before {content: \"▾\";}#sk-container-id-3 div.sk-estimator input.sk-toggleable__control:checked~label.sk-toggleable__label {background-color: #d4ebff;}#sk-container-id-3 div.sk-label input.sk-toggleable__control:checked~label.sk-toggleable__label {background-color: #d4ebff;}#sk-container-id-3 input.sk-hidden--visually {border: 0;clip: rect(1px 1px 1px 1px);clip: rect(1px, 1px, 1px, 1px);height: 1px;margin: -1px;overflow: hidden;padding: 0;position: absolute;width: 1px;}#sk-container-id-3 div.sk-estimator {font-family: monospace;background-color: #f0f8ff;border: 1px dotted black;border-radius: 0.25em;box-sizing: border-box;margin-bottom: 0.5em;}#sk-container-id-3 div.sk-estimator:hover {background-color: #d4ebff;}#sk-container-id-3 div.sk-parallel-item::after {content: \"\";width: 100%;border-bottom: 1px solid gray;flex-grow: 1;}#sk-container-id-3 div.sk-label:hover label.sk-toggleable__label {background-color: #d4ebff;}#sk-container-id-3 div.sk-serial::before {content: \"\";position: absolute;border-left: 1px solid gray;box-sizing: border-box;top: 0;bottom: 0;left: 50%;z-index: 0;}#sk-container-id-3 div.sk-serial {display: flex;flex-direction: column;align-items: center;background-color: white;padding-right: 0.2em;padding-left: 0.2em;position: relative;}#sk-container-id-3 div.sk-item {position: relative;z-index: 1;}#sk-container-id-3 div.sk-parallel {display: flex;align-items: stretch;justify-content: center;background-color: white;position: relative;}#sk-container-id-3 div.sk-item::before, #sk-container-id-3 div.sk-parallel-item::before {content: \"\";position: absolute;border-left: 1px solid gray;box-sizing: border-box;top: 0;bottom: 0;left: 50%;z-index: -1;}#sk-container-id-3 div.sk-parallel-item {display: flex;flex-direction: column;z-index: 1;position: relative;background-color: white;}#sk-container-id-3 div.sk-parallel-item:first-child::after {align-self: flex-end;width: 50%;}#sk-container-id-3 div.sk-parallel-item:last-child::after {align-self: flex-start;width: 50%;}#sk-container-id-3 div.sk-parallel-item:only-child::after {width: 0;}#sk-container-id-3 div.sk-dashed-wrapped {border: 1px dashed gray;margin: 0 0.4em 0.5em 0.4em;box-sizing: border-box;padding-bottom: 0.4em;background-color: white;}#sk-container-id-3 div.sk-label label {font-family: monospace;font-weight: bold;display: inline-block;line-height: 1.2em;}#sk-container-id-3 div.sk-label-container {text-align: center;}#sk-container-id-3 div.sk-container {/* jupyter's `normalize.less` sets `[hidden] { display: none; }` but bootstrap.min.css set `[hidden] { display: none !important; }` so we also need the `!important` here to be able to override the default hidden behavior on the sphinx rendered scikit-learn.org. See: https://github.com/scikit-learn/scikit-learn/issues/21755 */display: inline-block !important;position: relative;}#sk-container-id-3 div.sk-text-repr-fallback {display: none;}</style><div id=\"sk-container-id-3\" class=\"sk-top-container\"><div class=\"sk-text-repr-fallback\"><pre>LinearRegression()</pre><b>In a Jupyter environment, please rerun this cell to show the HTML representation or trust the notebook. <br />On GitHub, the HTML representation is unable to render, please try loading this page with nbviewer.org.</b></div><div class=\"sk-container\" hidden><div class=\"sk-item\"><div class=\"sk-estimator sk-toggleable\"><input class=\"sk-toggleable__control sk-hidden--visually\" id=\"sk-estimator-id-3\" type=\"checkbox\" checked><label for=\"sk-estimator-id-3\" class=\"sk-toggleable__label sk-toggleable__label-arrow\">LinearRegression</label><div class=\"sk-toggleable__content\"><pre>LinearRegression()</pre></div></div></div></div></div>"
      ],
      "text/plain": [
       "LinearRegression()"
      ]
     },
     "execution_count": 198,
     "metadata": {},
     "output_type": "execute_result"
    }
   ],
   "source": [
    "from sklearn.linear_model import LinearRegression\n",
    "lr = LinearRegression()\n",
    "lr.fit(x_train_ss, y_train)"
   ]
  },
  {
   "cell_type": "code",
   "execution_count": 199,
   "id": "947893c9",
   "metadata": {},
   "outputs": [],
   "source": [
    "y_pred = lr.predict(x_train_ss)"
   ]
  },
  {
   "cell_type": "code",
   "execution_count": 200,
   "id": "de63d1da",
   "metadata": {},
   "outputs": [],
   "source": [
    "from sklearn.metrics import classification_report\n",
    "from sklearn.metrics import roc_curve"
   ]
  },
  {
   "cell_type": "code",
   "execution_count": 201,
   "id": "2f971f13",
   "metadata": {},
   "outputs": [
    {
     "name": "stdout",
     "output_type": "stream",
     "text": [
      "linear regression score:  0.27774278802957264\n",
      "linear regression score:  0.2850153665408721\n"
     ]
    }
   ],
   "source": [
    "print(\"linear regression score: \",lr.score(x_train_ss, y_train))\n",
    "print(\"linear regression score: \",lr.score(x_test_ss, y_test))"
   ]
  },
  {
   "cell_type": "code",
   "execution_count": 202,
   "id": "64e997cc",
   "metadata": {},
   "outputs": [],
   "source": [
    "from sklearn.neighbors import KNeighborsRegressor\n",
    "from sklearn.ensemble import RandomForestRegressor\n",
    "from sklearn.ensemble import AdaBoostRegressor"
   ]
  },
  {
   "cell_type": "code",
   "execution_count": 155,
   "id": "772d9120",
   "metadata": {},
   "outputs": [],
   "source": [
    "# Siapkan dataframe untuk analisis model\n",
    "models = pd.DataFrame(index=['train_mse', 'test_mse'], \n",
    "                      columns=['KNN', 'RandomForest', 'Boosting'])"
   ]
  },
  {
   "cell_type": "code",
   "execution_count": 156,
   "id": "198c1ebf",
   "metadata": {},
   "outputs": [],
   "source": [
    "from sklearn.neighbors import KNeighborsRegressor\n",
    "from sklearn.metrics import mean_squared_error\n",
    " \n",
    "knn = KNeighborsRegressor(n_neighbors=10)\n",
    "knn.fit(x_train_ss, y_train)\n",
    " \n",
    "models.loc['train_mse','knn'] = mean_squared_error(y_pred = knn.predict(x_train_ss), y_true=y_train)"
   ]
  },
  {
   "cell_type": "code",
   "execution_count": 157,
   "id": "7adea59e",
   "metadata": {},
   "outputs": [],
   "source": [
    "# Impor library yang dibutuhkan\n",
    "from sklearn.ensemble import RandomForestRegressor\n",
    " \n",
    "# buat model prediksi\n",
    "RF = RandomForestRegressor(n_estimators=50, max_depth=16, random_state=55, n_jobs=-1)\n",
    "RF.fit(x_train_ss, y_train)\n",
    " \n",
    "models.loc['train_mse','RandomForest'] = mean_squared_error(y_pred=RF.predict(x_train_ss), y_true=y_train)"
   ]
  },
  {
   "cell_type": "code",
   "execution_count": 158,
   "id": "04f9d286",
   "metadata": {},
   "outputs": [],
   "source": [
    "from sklearn.ensemble import AdaBoostRegressor\n",
    " \n",
    "boosting = AdaBoostRegressor(learning_rate=0.05, random_state=55)                             \n",
    "boosting.fit(x_train_ss, y_train)\n",
    "models.loc['train_mse','Boosting'] = mean_squared_error(y_pred=boosting.predict(x_train_ss), y_true=y_train)"
   ]
  },
  {
   "cell_type": "code",
   "execution_count": 159,
   "id": "735012a0",
   "metadata": {},
   "outputs": [
    {
     "data": {
      "text/html": [
       "<div>\n",
       "<style scoped>\n",
       "    .dataframe tbody tr th:only-of-type {\n",
       "        vertical-align: middle;\n",
       "    }\n",
       "\n",
       "    .dataframe tbody tr th {\n",
       "        vertical-align: top;\n",
       "    }\n",
       "\n",
       "    .dataframe thead th {\n",
       "        text-align: right;\n",
       "    }\n",
       "</style>\n",
       "<table border=\"1\" class=\"dataframe\">\n",
       "  <thead>\n",
       "    <tr style=\"text-align: right;\">\n",
       "      <th></th>\n",
       "      <th>train</th>\n",
       "      <th>test</th>\n",
       "    </tr>\n",
       "  </thead>\n",
       "  <tbody>\n",
       "    <tr>\n",
       "      <th>KNN</th>\n",
       "      <td>15745.660689</td>\n",
       "      <td>15950.95109</td>\n",
       "    </tr>\n",
       "    <tr>\n",
       "      <th>RF</th>\n",
       "      <td>36253.6223</td>\n",
       "      <td>37905.397686</td>\n",
       "    </tr>\n",
       "    <tr>\n",
       "      <th>Boosting</th>\n",
       "      <td>12655.302178</td>\n",
       "      <td>12995.364817</td>\n",
       "    </tr>\n",
       "  </tbody>\n",
       "</table>\n",
       "</div>"
      ],
      "text/plain": [
       "                 train          test\n",
       "KNN       15745.660689   15950.95109\n",
       "RF          36253.6223  37905.397686\n",
       "Boosting  12655.302178  12995.364817"
      ]
     },
     "execution_count": 159,
     "metadata": {},
     "output_type": "execute_result"
    }
   ],
   "source": [
    "# Buat variabel mse yang isinya adalah dataframe nilai mse data train dan test pada masing-masing algoritma\n",
    "mse = pd.DataFrame(columns=['train', 'test'], index=['KNN','RF','Boosting'])\n",
    " \n",
    "# Buat dictionary untuk setiap algoritma yang digunakan\n",
    "model_dict = {'KNN': knn, 'RF': RF, 'Boosting': boosting}\n",
    " \n",
    "# Hitung Mean Squared Error masing-masing algoritma pada data train dan test\n",
    "for name, model in model_dict.items():\n",
    "    mse.loc[name, 'train'] = mean_squared_error(y_true=y_train, y_pred=model.predict(X_train))/1e3 \n",
    "    mse.loc[name, 'test'] = mean_squared_error(y_true=y_test, y_pred=model.predict(X_test))/1e3\n",
    "  \n",
    "# Panggil mse\n",
    "mse"
   ]
  },
  {
   "cell_type": "code",
   "execution_count": 164,
   "id": "342a723a",
   "metadata": {},
   "outputs": [
    {
     "name": "stdout",
     "output_type": "stream",
     "text": [
      "rr score:  0.3113033612549383\n"
     ]
    }
   ],
   "source": [
    "from sklearn.linear_model import Ridge\n",
    "rr=Ridge()\n",
    "rr.fit(x_train_ss, y_train)\n",
    "y_pred = rr.predict(x_train_ss)\n",
    "print(\"rr score: \",rr.score(x_train_ss, y_train))"
   ]
  },
  {
   "cell_type": "code",
   "execution_count": 185,
   "id": "a7c1978e",
   "metadata": {},
   "outputs": [
    {
     "name": "stdout",
     "output_type": "stream",
     "text": [
      "rf training score:  0.8890103793902812\n"
     ]
    }
   ],
   "source": [
    "from sklearn.ensemble import RandomForestRegressor\n",
    "rf=RandomForestRegressor()\n",
    "rf.fit(x_train_ss, y_train)\n",
    "y_pred = rf.predict(x_train_ss)\n",
    "print(\"rf training score: \",rf.score(x_train_ss, y_train))"
   ]
  },
  {
   "cell_type": "code",
   "execution_count": 186,
   "id": "66bc6686",
   "metadata": {},
   "outputs": [
    {
     "name": "stdout",
     "output_type": "stream",
     "text": [
      "rf testing score:  0.28272546335494964\n"
     ]
    }
   ],
   "source": [
    "print(\"rf testing score: \",rf.score(x_test_ss, y_test))"
   ]
  },
  {
   "cell_type": "code",
   "execution_count": 188,
   "id": "a531c300",
   "metadata": {},
   "outputs": [
    {
     "name": "stdout",
     "output_type": "stream",
     "text": [
      "gpc training score:  0.9994065078918981\n"
     ]
    }
   ],
   "source": [
    "from sklearn.gaussian_process import GaussianProcessRegressor\n",
    "gpc=GaussianProcessRegressor()\n",
    "gpc.fit(x_train_ss, y_train)\n",
    "y_pred = gpc.predict(x_train_ss)\n",
    "print(\"gpc training score: \",gpc.score(x_train_ss, y_train))"
   ]
  },
  {
   "cell_type": "code",
   "execution_count": 189,
   "id": "1e1548ff",
   "metadata": {},
   "outputs": [
    {
     "name": "stdout",
     "output_type": "stream",
     "text": [
      "rf testing score:  -49133.58670509411\n"
     ]
    }
   ],
   "source": [
    "print(\"rf testing score: \",gpc.score(x_test_ss, y_test))"
   ]
  },
  {
   "cell_type": "code",
   "execution_count": null,
   "id": "cc6170b4",
   "metadata": {},
   "outputs": [],
   "source": []
  }
 ],
 "metadata": {
  "kernelspec": {
   "display_name": "Python 3 (ipykernel)",
   "language": "python",
   "name": "python3"
  },
  "language_info": {
   "codemirror_mode": {
    "name": "ipython",
    "version": 3
   },
   "file_extension": ".py",
   "mimetype": "text/x-python",
   "name": "python",
   "nbconvert_exporter": "python",
   "pygments_lexer": "ipython3",
   "version": "3.9.12"
  }
 },
 "nbformat": 4,
 "nbformat_minor": 5
}
