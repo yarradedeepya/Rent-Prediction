{
 "cells": [
  {
   "cell_type": "code",
   "execution_count": 39,
   "id": "e4e525c9",
   "metadata": {},
   "outputs": [],
   "source": [
    "import pandas as pd"
   ]
  },
  {
   "cell_type": "code",
   "execution_count": 40,
   "id": "a66e4ffa",
   "metadata": {},
   "outputs": [],
   "source": [
    "d=pd.read_csv(\"Rentpredictionpreprocesseddata.csv\")"
   ]
  },
  {
   "cell_type": "code",
   "execution_count": 41,
   "id": "390faa12",
   "metadata": {},
   "outputs": [
    {
     "data": {
      "text/html": [
       "<div>\n",
       "<style scoped>\n",
       "    .dataframe tbody tr th:only-of-type {\n",
       "        vertical-align: middle;\n",
       "    }\n",
       "\n",
       "    .dataframe tbody tr th {\n",
       "        vertical-align: top;\n",
       "    }\n",
       "\n",
       "    .dataframe thead th {\n",
       "        text-align: right;\n",
       "    }\n",
       "</style>\n",
       "<table border=\"1\" class=\"dataframe\">\n",
       "  <thead>\n",
       "    <tr style=\"text-align: right;\">\n",
       "      <th></th>\n",
       "      <th>Unnamed: 0</th>\n",
       "      <th>City</th>\n",
       "      <th>Names</th>\n",
       "      <th>Bed</th>\n",
       "      <th>Area</th>\n",
       "      <th>Rating</th>\n",
       "      <th>location</th>\n",
       "      <th>petsallowed</th>\n",
       "      <th>pool</th>\n",
       "      <th>fitnessCenter</th>\n",
       "      <th>grill</th>\n",
       "      <th>closet</th>\n",
       "      <th>washerdryer</th>\n",
       "      <th>countertops</th>\n",
       "      <th>access</th>\n",
       "      <th>Rent</th>\n",
       "    </tr>\n",
       "  </thead>\n",
       "  <tbody>\n",
       "    <tr>\n",
       "      <th>0</th>\n",
       "      <td>0</td>\n",
       "      <td>denton</td>\n",
       "      <td>Elan Denton</td>\n",
       "      <td>3.0</td>\n",
       "      <td>1404.0</td>\n",
       "      <td>4.200000</td>\n",
       "      <td>1501 Northstar Rd,\\r\\n                Denton,\\...</td>\n",
       "      <td>1.0</td>\n",
       "      <td>1.0</td>\n",
       "      <td>1.0</td>\n",
       "      <td>1.0</td>\n",
       "      <td>1.0</td>\n",
       "      <td>1.0</td>\n",
       "      <td>1.0</td>\n",
       "      <td>1.0</td>\n",
       "      <td>2420.0</td>\n",
       "    </tr>\n",
       "    <tr>\n",
       "      <th>1</th>\n",
       "      <td>1</td>\n",
       "      <td>denton</td>\n",
       "      <td>Eighteen 51 Brinker</td>\n",
       "      <td>3.0</td>\n",
       "      <td>1350.0</td>\n",
       "      <td>4.000000</td>\n",
       "      <td>1851 Brinker Rd,\\r\\n                Denton,\\r\\...</td>\n",
       "      <td>1.0</td>\n",
       "      <td>1.0</td>\n",
       "      <td>1.0</td>\n",
       "      <td>1.0</td>\n",
       "      <td>1.0</td>\n",
       "      <td>0.0</td>\n",
       "      <td>1.0</td>\n",
       "      <td>1.0</td>\n",
       "      <td>2499.0</td>\n",
       "    </tr>\n",
       "    <tr>\n",
       "      <th>2</th>\n",
       "      <td>2</td>\n",
       "      <td>denton</td>\n",
       "      <td>Epic Apartments</td>\n",
       "      <td>3.0</td>\n",
       "      <td>1180.0</td>\n",
       "      <td>3.000000</td>\n",
       "      <td>3200 S Interstate 35 E,\\r\\n                Den...</td>\n",
       "      <td>1.0</td>\n",
       "      <td>1.0</td>\n",
       "      <td>1.0</td>\n",
       "      <td>1.0</td>\n",
       "      <td>1.0</td>\n",
       "      <td>1.0</td>\n",
       "      <td>1.0</td>\n",
       "      <td>1.0</td>\n",
       "      <td>1735.0</td>\n",
       "    </tr>\n",
       "    <tr>\n",
       "      <th>3</th>\n",
       "      <td>3</td>\n",
       "      <td>denton</td>\n",
       "      <td>Epoch on Eagle</td>\n",
       "      <td>2.0</td>\n",
       "      <td>1177.0</td>\n",
       "      <td>4.000000</td>\n",
       "      <td>903 Avenue C,\\r\\n                Denton,\\r\\n  ...</td>\n",
       "      <td>1.0</td>\n",
       "      <td>1.0</td>\n",
       "      <td>1.0</td>\n",
       "      <td>1.0</td>\n",
       "      <td>1.0</td>\n",
       "      <td>1.0</td>\n",
       "      <td>0.0</td>\n",
       "      <td>1.0</td>\n",
       "      <td>2479.0</td>\n",
       "    </tr>\n",
       "    <tr>\n",
       "      <th>4</th>\n",
       "      <td>4</td>\n",
       "      <td>denton</td>\n",
       "      <td>Allora Denton</td>\n",
       "      <td>2.0</td>\n",
       "      <td>1317.0</td>\n",
       "      <td>3.000000</td>\n",
       "      <td>2951 Picadilly Ln,\\r\\n                Denton,\\...</td>\n",
       "      <td>1.0</td>\n",
       "      <td>1.0</td>\n",
       "      <td>1.0</td>\n",
       "      <td>0.0</td>\n",
       "      <td>0.0</td>\n",
       "      <td>1.0</td>\n",
       "      <td>0.0</td>\n",
       "      <td>1.0</td>\n",
       "      <td>2020.0</td>\n",
       "    </tr>\n",
       "    <tr>\n",
       "      <th>...</th>\n",
       "      <td>...</td>\n",
       "      <td>...</td>\n",
       "      <td>...</td>\n",
       "      <td>...</td>\n",
       "      <td>...</td>\n",
       "      <td>...</td>\n",
       "      <td>...</td>\n",
       "      <td>...</td>\n",
       "      <td>...</td>\n",
       "      <td>...</td>\n",
       "      <td>...</td>\n",
       "      <td>...</td>\n",
       "      <td>...</td>\n",
       "      <td>...</td>\n",
       "      <td>...</td>\n",
       "      <td>...</td>\n",
       "    </tr>\n",
       "    <tr>\n",
       "      <th>2958</th>\n",
       "      <td>3019</td>\n",
       "      <td>dallas</td>\n",
       "      <td>Camino Del Sol Apartment Homes</td>\n",
       "      <td>2.0</td>\n",
       "      <td>981.0</td>\n",
       "      <td>3.200000</td>\n",
       "      <td>1030 Dallas Dr,  Denton, TX 76205</td>\n",
       "      <td>0.0</td>\n",
       "      <td>1.0</td>\n",
       "      <td>1.0</td>\n",
       "      <td>0.0</td>\n",
       "      <td>1.0</td>\n",
       "      <td>1.0</td>\n",
       "      <td>0.0</td>\n",
       "      <td>0.0</td>\n",
       "      <td>1907.0</td>\n",
       "    </tr>\n",
       "    <tr>\n",
       "      <th>2959</th>\n",
       "      <td>3020</td>\n",
       "      <td>dallas</td>\n",
       "      <td>Preserve at Pecan Creek</td>\n",
       "      <td>3.0</td>\n",
       "      <td>1319.0</td>\n",
       "      <td>3.000000</td>\n",
       "      <td>6303 W Shady Shores Rd,  Denton, TX 76208</td>\n",
       "      <td>0.0</td>\n",
       "      <td>1.0</td>\n",
       "      <td>0.0</td>\n",
       "      <td>0.0</td>\n",
       "      <td>1.0</td>\n",
       "      <td>1.0</td>\n",
       "      <td>0.0</td>\n",
       "      <td>0.0</td>\n",
       "      <td>2149.0</td>\n",
       "    </tr>\n",
       "    <tr>\n",
       "      <th>2960</th>\n",
       "      <td>3021</td>\n",
       "      <td>dallas</td>\n",
       "      <td>Pecan Creek on McKinney Apartments</td>\n",
       "      <td>4.0</td>\n",
       "      <td>1300.0</td>\n",
       "      <td>3.166667</td>\n",
       "      <td>3500 E McKinney Denton St,  Denton, TX 76209</td>\n",
       "      <td>1.0</td>\n",
       "      <td>1.0</td>\n",
       "      <td>0.0</td>\n",
       "      <td>0.0</td>\n",
       "      <td>1.0</td>\n",
       "      <td>1.0</td>\n",
       "      <td>0.0</td>\n",
       "      <td>1.0</td>\n",
       "      <td>1473.0</td>\n",
       "    </tr>\n",
       "    <tr>\n",
       "      <th>2961</th>\n",
       "      <td>3022</td>\n",
       "      <td>dallas</td>\n",
       "      <td>Greenway Patio</td>\n",
       "      <td>3.0</td>\n",
       "      <td>1260.0</td>\n",
       "      <td>3.166667</td>\n",
       "      <td>2912 Augusta Dr,  Denton, TX 76207</td>\n",
       "      <td>1.0</td>\n",
       "      <td>1.0</td>\n",
       "      <td>0.0</td>\n",
       "      <td>1.0</td>\n",
       "      <td>1.0</td>\n",
       "      <td>1.0</td>\n",
       "      <td>0.0</td>\n",
       "      <td>0.0</td>\n",
       "      <td>1780.0</td>\n",
       "    </tr>\n",
       "    <tr>\n",
       "      <th>2962</th>\n",
       "      <td>3023</td>\n",
       "      <td>dallas</td>\n",
       "      <td>Encore Alsbury</td>\n",
       "      <td>2.0</td>\n",
       "      <td>1078.0</td>\n",
       "      <td>3.200000</td>\n",
       "      <td>1350 SW Alsbury Blvd,  Burleson, TX 76028</td>\n",
       "      <td>1.0</td>\n",
       "      <td>1.0</td>\n",
       "      <td>1.0</td>\n",
       "      <td>1.0</td>\n",
       "      <td>1.0</td>\n",
       "      <td>0.0</td>\n",
       "      <td>1.0</td>\n",
       "      <td>1.0</td>\n",
       "      <td>1625.0</td>\n",
       "    </tr>\n",
       "  </tbody>\n",
       "</table>\n",
       "<p>2963 rows × 16 columns</p>\n",
       "</div>"
      ],
      "text/plain": [
       "      Unnamed: 0    City                               Names  Bed    Area  \\\n",
       "0              0  denton                         Elan Denton  3.0  1404.0   \n",
       "1              1  denton                 Eighteen 51 Brinker  3.0  1350.0   \n",
       "2              2  denton                     Epic Apartments  3.0  1180.0   \n",
       "3              3  denton                      Epoch on Eagle  2.0  1177.0   \n",
       "4              4  denton                       Allora Denton  2.0  1317.0   \n",
       "...          ...     ...                                 ...  ...     ...   \n",
       "2958        3019  dallas      Camino Del Sol Apartment Homes  2.0   981.0   \n",
       "2959        3020  dallas             Preserve at Pecan Creek  3.0  1319.0   \n",
       "2960        3021  dallas  Pecan Creek on McKinney Apartments  4.0  1300.0   \n",
       "2961        3022  dallas                      Greenway Patio  3.0  1260.0   \n",
       "2962        3023  dallas                      Encore Alsbury  2.0  1078.0   \n",
       "\n",
       "        Rating                                           location  \\\n",
       "0     4.200000  1501 Northstar Rd,\\r\\n                Denton,\\...   \n",
       "1     4.000000  1851 Brinker Rd,\\r\\n                Denton,\\r\\...   \n",
       "2     3.000000  3200 S Interstate 35 E,\\r\\n                Den...   \n",
       "3     4.000000  903 Avenue C,\\r\\n                Denton,\\r\\n  ...   \n",
       "4     3.000000  2951 Picadilly Ln,\\r\\n                Denton,\\...   \n",
       "...        ...                                                ...   \n",
       "2958  3.200000                  1030 Dallas Dr,  Denton, TX 76205   \n",
       "2959  3.000000          6303 W Shady Shores Rd,  Denton, TX 76208   \n",
       "2960  3.166667       3500 E McKinney Denton St,  Denton, TX 76209   \n",
       "2961  3.166667                 2912 Augusta Dr,  Denton, TX 76207   \n",
       "2962  3.200000          1350 SW Alsbury Blvd,  Burleson, TX 76028   \n",
       "\n",
       "      petsallowed  pool  fitnessCenter  grill  closet  washerdryer  \\\n",
       "0             1.0   1.0            1.0    1.0     1.0          1.0   \n",
       "1             1.0   1.0            1.0    1.0     1.0          0.0   \n",
       "2             1.0   1.0            1.0    1.0     1.0          1.0   \n",
       "3             1.0   1.0            1.0    1.0     1.0          1.0   \n",
       "4             1.0   1.0            1.0    0.0     0.0          1.0   \n",
       "...           ...   ...            ...    ...     ...          ...   \n",
       "2958          0.0   1.0            1.0    0.0     1.0          1.0   \n",
       "2959          0.0   1.0            0.0    0.0     1.0          1.0   \n",
       "2960          1.0   1.0            0.0    0.0     1.0          1.0   \n",
       "2961          1.0   1.0            0.0    1.0     1.0          1.0   \n",
       "2962          1.0   1.0            1.0    1.0     1.0          0.0   \n",
       "\n",
       "      countertops  access    Rent  \n",
       "0             1.0     1.0  2420.0  \n",
       "1             1.0     1.0  2499.0  \n",
       "2             1.0     1.0  1735.0  \n",
       "3             0.0     1.0  2479.0  \n",
       "4             0.0     1.0  2020.0  \n",
       "...           ...     ...     ...  \n",
       "2958          0.0     0.0  1907.0  \n",
       "2959          0.0     0.0  2149.0  \n",
       "2960          0.0     1.0  1473.0  \n",
       "2961          0.0     0.0  1780.0  \n",
       "2962          1.0     1.0  1625.0  \n",
       "\n",
       "[2963 rows x 16 columns]"
      ]
     },
     "execution_count": 41,
     "metadata": {},
     "output_type": "execute_result"
    }
   ],
   "source": [
    "d"
   ]
  },
  {
   "cell_type": "code",
   "execution_count": 42,
   "id": "afce6284",
   "metadata": {},
   "outputs": [],
   "source": [
    "d.drop('Unnamed: 0', inplace=True, axis=1)"
   ]
  },
  {
   "cell_type": "code",
   "execution_count": 43,
   "id": "eb8b002f",
   "metadata": {},
   "outputs": [
    {
     "data": {
      "text/html": [
       "<div>\n",
       "<style scoped>\n",
       "    .dataframe tbody tr th:only-of-type {\n",
       "        vertical-align: middle;\n",
       "    }\n",
       "\n",
       "    .dataframe tbody tr th {\n",
       "        vertical-align: top;\n",
       "    }\n",
       "\n",
       "    .dataframe thead th {\n",
       "        text-align: right;\n",
       "    }\n",
       "</style>\n",
       "<table border=\"1\" class=\"dataframe\">\n",
       "  <thead>\n",
       "    <tr style=\"text-align: right;\">\n",
       "      <th></th>\n",
       "      <th>City</th>\n",
       "      <th>Names</th>\n",
       "      <th>Bed</th>\n",
       "      <th>Area</th>\n",
       "      <th>Rating</th>\n",
       "      <th>location</th>\n",
       "      <th>petsallowed</th>\n",
       "      <th>pool</th>\n",
       "      <th>fitnessCenter</th>\n",
       "      <th>grill</th>\n",
       "      <th>closet</th>\n",
       "      <th>washerdryer</th>\n",
       "      <th>countertops</th>\n",
       "      <th>access</th>\n",
       "      <th>Rent</th>\n",
       "    </tr>\n",
       "  </thead>\n",
       "  <tbody>\n",
       "    <tr>\n",
       "      <th>0</th>\n",
       "      <td>denton</td>\n",
       "      <td>Elan Denton</td>\n",
       "      <td>3.0</td>\n",
       "      <td>1404.0</td>\n",
       "      <td>4.200000</td>\n",
       "      <td>1501 Northstar Rd,\\r\\n                Denton,\\...</td>\n",
       "      <td>1.0</td>\n",
       "      <td>1.0</td>\n",
       "      <td>1.0</td>\n",
       "      <td>1.0</td>\n",
       "      <td>1.0</td>\n",
       "      <td>1.0</td>\n",
       "      <td>1.0</td>\n",
       "      <td>1.0</td>\n",
       "      <td>2420.0</td>\n",
       "    </tr>\n",
       "    <tr>\n",
       "      <th>1</th>\n",
       "      <td>denton</td>\n",
       "      <td>Eighteen 51 Brinker</td>\n",
       "      <td>3.0</td>\n",
       "      <td>1350.0</td>\n",
       "      <td>4.000000</td>\n",
       "      <td>1851 Brinker Rd,\\r\\n                Denton,\\r\\...</td>\n",
       "      <td>1.0</td>\n",
       "      <td>1.0</td>\n",
       "      <td>1.0</td>\n",
       "      <td>1.0</td>\n",
       "      <td>1.0</td>\n",
       "      <td>0.0</td>\n",
       "      <td>1.0</td>\n",
       "      <td>1.0</td>\n",
       "      <td>2499.0</td>\n",
       "    </tr>\n",
       "    <tr>\n",
       "      <th>2</th>\n",
       "      <td>denton</td>\n",
       "      <td>Epic Apartments</td>\n",
       "      <td>3.0</td>\n",
       "      <td>1180.0</td>\n",
       "      <td>3.000000</td>\n",
       "      <td>3200 S Interstate 35 E,\\r\\n                Den...</td>\n",
       "      <td>1.0</td>\n",
       "      <td>1.0</td>\n",
       "      <td>1.0</td>\n",
       "      <td>1.0</td>\n",
       "      <td>1.0</td>\n",
       "      <td>1.0</td>\n",
       "      <td>1.0</td>\n",
       "      <td>1.0</td>\n",
       "      <td>1735.0</td>\n",
       "    </tr>\n",
       "    <tr>\n",
       "      <th>3</th>\n",
       "      <td>denton</td>\n",
       "      <td>Epoch on Eagle</td>\n",
       "      <td>2.0</td>\n",
       "      <td>1177.0</td>\n",
       "      <td>4.000000</td>\n",
       "      <td>903 Avenue C,\\r\\n                Denton,\\r\\n  ...</td>\n",
       "      <td>1.0</td>\n",
       "      <td>1.0</td>\n",
       "      <td>1.0</td>\n",
       "      <td>1.0</td>\n",
       "      <td>1.0</td>\n",
       "      <td>1.0</td>\n",
       "      <td>0.0</td>\n",
       "      <td>1.0</td>\n",
       "      <td>2479.0</td>\n",
       "    </tr>\n",
       "    <tr>\n",
       "      <th>4</th>\n",
       "      <td>denton</td>\n",
       "      <td>Allora Denton</td>\n",
       "      <td>2.0</td>\n",
       "      <td>1317.0</td>\n",
       "      <td>3.000000</td>\n",
       "      <td>2951 Picadilly Ln,\\r\\n                Denton,\\...</td>\n",
       "      <td>1.0</td>\n",
       "      <td>1.0</td>\n",
       "      <td>1.0</td>\n",
       "      <td>0.0</td>\n",
       "      <td>0.0</td>\n",
       "      <td>1.0</td>\n",
       "      <td>0.0</td>\n",
       "      <td>1.0</td>\n",
       "      <td>2020.0</td>\n",
       "    </tr>\n",
       "    <tr>\n",
       "      <th>...</th>\n",
       "      <td>...</td>\n",
       "      <td>...</td>\n",
       "      <td>...</td>\n",
       "      <td>...</td>\n",
       "      <td>...</td>\n",
       "      <td>...</td>\n",
       "      <td>...</td>\n",
       "      <td>...</td>\n",
       "      <td>...</td>\n",
       "      <td>...</td>\n",
       "      <td>...</td>\n",
       "      <td>...</td>\n",
       "      <td>...</td>\n",
       "      <td>...</td>\n",
       "      <td>...</td>\n",
       "    </tr>\n",
       "    <tr>\n",
       "      <th>2958</th>\n",
       "      <td>dallas</td>\n",
       "      <td>Camino Del Sol Apartment Homes</td>\n",
       "      <td>2.0</td>\n",
       "      <td>981.0</td>\n",
       "      <td>3.200000</td>\n",
       "      <td>1030 Dallas Dr,  Denton, TX 76205</td>\n",
       "      <td>0.0</td>\n",
       "      <td>1.0</td>\n",
       "      <td>1.0</td>\n",
       "      <td>0.0</td>\n",
       "      <td>1.0</td>\n",
       "      <td>1.0</td>\n",
       "      <td>0.0</td>\n",
       "      <td>0.0</td>\n",
       "      <td>1907.0</td>\n",
       "    </tr>\n",
       "    <tr>\n",
       "      <th>2959</th>\n",
       "      <td>dallas</td>\n",
       "      <td>Preserve at Pecan Creek</td>\n",
       "      <td>3.0</td>\n",
       "      <td>1319.0</td>\n",
       "      <td>3.000000</td>\n",
       "      <td>6303 W Shady Shores Rd,  Denton, TX 76208</td>\n",
       "      <td>0.0</td>\n",
       "      <td>1.0</td>\n",
       "      <td>0.0</td>\n",
       "      <td>0.0</td>\n",
       "      <td>1.0</td>\n",
       "      <td>1.0</td>\n",
       "      <td>0.0</td>\n",
       "      <td>0.0</td>\n",
       "      <td>2149.0</td>\n",
       "    </tr>\n",
       "    <tr>\n",
       "      <th>2960</th>\n",
       "      <td>dallas</td>\n",
       "      <td>Pecan Creek on McKinney Apartments</td>\n",
       "      <td>4.0</td>\n",
       "      <td>1300.0</td>\n",
       "      <td>3.166667</td>\n",
       "      <td>3500 E McKinney Denton St,  Denton, TX 76209</td>\n",
       "      <td>1.0</td>\n",
       "      <td>1.0</td>\n",
       "      <td>0.0</td>\n",
       "      <td>0.0</td>\n",
       "      <td>1.0</td>\n",
       "      <td>1.0</td>\n",
       "      <td>0.0</td>\n",
       "      <td>1.0</td>\n",
       "      <td>1473.0</td>\n",
       "    </tr>\n",
       "    <tr>\n",
       "      <th>2961</th>\n",
       "      <td>dallas</td>\n",
       "      <td>Greenway Patio</td>\n",
       "      <td>3.0</td>\n",
       "      <td>1260.0</td>\n",
       "      <td>3.166667</td>\n",
       "      <td>2912 Augusta Dr,  Denton, TX 76207</td>\n",
       "      <td>1.0</td>\n",
       "      <td>1.0</td>\n",
       "      <td>0.0</td>\n",
       "      <td>1.0</td>\n",
       "      <td>1.0</td>\n",
       "      <td>1.0</td>\n",
       "      <td>0.0</td>\n",
       "      <td>0.0</td>\n",
       "      <td>1780.0</td>\n",
       "    </tr>\n",
       "    <tr>\n",
       "      <th>2962</th>\n",
       "      <td>dallas</td>\n",
       "      <td>Encore Alsbury</td>\n",
       "      <td>2.0</td>\n",
       "      <td>1078.0</td>\n",
       "      <td>3.200000</td>\n",
       "      <td>1350 SW Alsbury Blvd,  Burleson, TX 76028</td>\n",
       "      <td>1.0</td>\n",
       "      <td>1.0</td>\n",
       "      <td>1.0</td>\n",
       "      <td>1.0</td>\n",
       "      <td>1.0</td>\n",
       "      <td>0.0</td>\n",
       "      <td>1.0</td>\n",
       "      <td>1.0</td>\n",
       "      <td>1625.0</td>\n",
       "    </tr>\n",
       "  </tbody>\n",
       "</table>\n",
       "<p>2963 rows × 15 columns</p>\n",
       "</div>"
      ],
      "text/plain": [
       "        City                               Names  Bed    Area    Rating  \\\n",
       "0     denton                         Elan Denton  3.0  1404.0  4.200000   \n",
       "1     denton                 Eighteen 51 Brinker  3.0  1350.0  4.000000   \n",
       "2     denton                     Epic Apartments  3.0  1180.0  3.000000   \n",
       "3     denton                      Epoch on Eagle  2.0  1177.0  4.000000   \n",
       "4     denton                       Allora Denton  2.0  1317.0  3.000000   \n",
       "...      ...                                 ...  ...     ...       ...   \n",
       "2958  dallas      Camino Del Sol Apartment Homes  2.0   981.0  3.200000   \n",
       "2959  dallas             Preserve at Pecan Creek  3.0  1319.0  3.000000   \n",
       "2960  dallas  Pecan Creek on McKinney Apartments  4.0  1300.0  3.166667   \n",
       "2961  dallas                      Greenway Patio  3.0  1260.0  3.166667   \n",
       "2962  dallas                      Encore Alsbury  2.0  1078.0  3.200000   \n",
       "\n",
       "                                               location  petsallowed  pool  \\\n",
       "0     1501 Northstar Rd,\\r\\n                Denton,\\...          1.0   1.0   \n",
       "1     1851 Brinker Rd,\\r\\n                Denton,\\r\\...          1.0   1.0   \n",
       "2     3200 S Interstate 35 E,\\r\\n                Den...          1.0   1.0   \n",
       "3     903 Avenue C,\\r\\n                Denton,\\r\\n  ...          1.0   1.0   \n",
       "4     2951 Picadilly Ln,\\r\\n                Denton,\\...          1.0   1.0   \n",
       "...                                                 ...          ...   ...   \n",
       "2958                  1030 Dallas Dr,  Denton, TX 76205          0.0   1.0   \n",
       "2959          6303 W Shady Shores Rd,  Denton, TX 76208          0.0   1.0   \n",
       "2960       3500 E McKinney Denton St,  Denton, TX 76209          1.0   1.0   \n",
       "2961                 2912 Augusta Dr,  Denton, TX 76207          1.0   1.0   \n",
       "2962          1350 SW Alsbury Blvd,  Burleson, TX 76028          1.0   1.0   \n",
       "\n",
       "      fitnessCenter  grill  closet  washerdryer  countertops  access    Rent  \n",
       "0               1.0    1.0     1.0          1.0          1.0     1.0  2420.0  \n",
       "1               1.0    1.0     1.0          0.0          1.0     1.0  2499.0  \n",
       "2               1.0    1.0     1.0          1.0          1.0     1.0  1735.0  \n",
       "3               1.0    1.0     1.0          1.0          0.0     1.0  2479.0  \n",
       "4               1.0    0.0     0.0          1.0          0.0     1.0  2020.0  \n",
       "...             ...    ...     ...          ...          ...     ...     ...  \n",
       "2958            1.0    0.0     1.0          1.0          0.0     0.0  1907.0  \n",
       "2959            0.0    0.0     1.0          1.0          0.0     0.0  2149.0  \n",
       "2960            0.0    0.0     1.0          1.0          0.0     1.0  1473.0  \n",
       "2961            0.0    1.0     1.0          1.0          0.0     0.0  1780.0  \n",
       "2962            1.0    1.0     1.0          0.0          1.0     1.0  1625.0  \n",
       "\n",
       "[2963 rows x 15 columns]"
      ]
     },
     "execution_count": 43,
     "metadata": {},
     "output_type": "execute_result"
    }
   ],
   "source": [
    "d"
   ]
  },
  {
   "cell_type": "code",
   "execution_count": 44,
   "id": "c5c6cc14",
   "metadata": {},
   "outputs": [],
   "source": [
    "X= d[['Bed','Area','fitnessCenter','pool','Rating','countertops','access']]\n",
    "y = d[['Rent']].values\n",
    "accuracylis=[]"
   ]
  },
  {
   "cell_type": "code",
   "execution_count": 45,
   "id": "aad0f4eb",
   "metadata": {},
   "outputs": [],
   "source": [
    "from sklearn.model_selection import train_test_split\n",
    "\n",
    "X_train, X_test, y_train, y_test = train_test_split(X, y, test_size=0.25, random_state=42)"
   ]
  },
  {
   "cell_type": "code",
   "execution_count": 46,
   "id": "346769b4",
   "metadata": {},
   "outputs": [],
   "source": [
    "from sklearn.preprocessing import StandardScaler\n",
    "sc = StandardScaler()\n",
    "x_train_ss = sc.fit_transform(X_train)\n",
    "x_test_ss = sc.fit_transform(X_test)"
   ]
  },
  {
   "cell_type": "code",
   "execution_count": 47,
   "id": "bc88a564",
   "metadata": {},
   "outputs": [
    {
     "data": {
      "text/html": [
       "<style>#sk-container-id-3 {color: black;background-color: white;}#sk-container-id-3 pre{padding: 0;}#sk-container-id-3 div.sk-toggleable {background-color: white;}#sk-container-id-3 label.sk-toggleable__label {cursor: pointer;display: block;width: 100%;margin-bottom: 0;padding: 0.3em;box-sizing: border-box;text-align: center;}#sk-container-id-3 label.sk-toggleable__label-arrow:before {content: \"▸\";float: left;margin-right: 0.25em;color: #696969;}#sk-container-id-3 label.sk-toggleable__label-arrow:hover:before {color: black;}#sk-container-id-3 div.sk-estimator:hover label.sk-toggleable__label-arrow:before {color: black;}#sk-container-id-3 div.sk-toggleable__content {max-height: 0;max-width: 0;overflow: hidden;text-align: left;background-color: #f0f8ff;}#sk-container-id-3 div.sk-toggleable__content pre {margin: 0.2em;color: black;border-radius: 0.25em;background-color: #f0f8ff;}#sk-container-id-3 input.sk-toggleable__control:checked~div.sk-toggleable__content {max-height: 200px;max-width: 100%;overflow: auto;}#sk-container-id-3 input.sk-toggleable__control:checked~label.sk-toggleable__label-arrow:before {content: \"▾\";}#sk-container-id-3 div.sk-estimator input.sk-toggleable__control:checked~label.sk-toggleable__label {background-color: #d4ebff;}#sk-container-id-3 div.sk-label input.sk-toggleable__control:checked~label.sk-toggleable__label {background-color: #d4ebff;}#sk-container-id-3 input.sk-hidden--visually {border: 0;clip: rect(1px 1px 1px 1px);clip: rect(1px, 1px, 1px, 1px);height: 1px;margin: -1px;overflow: hidden;padding: 0;position: absolute;width: 1px;}#sk-container-id-3 div.sk-estimator {font-family: monospace;background-color: #f0f8ff;border: 1px dotted black;border-radius: 0.25em;box-sizing: border-box;margin-bottom: 0.5em;}#sk-container-id-3 div.sk-estimator:hover {background-color: #d4ebff;}#sk-container-id-3 div.sk-parallel-item::after {content: \"\";width: 100%;border-bottom: 1px solid gray;flex-grow: 1;}#sk-container-id-3 div.sk-label:hover label.sk-toggleable__label {background-color: #d4ebff;}#sk-container-id-3 div.sk-serial::before {content: \"\";position: absolute;border-left: 1px solid gray;box-sizing: border-box;top: 0;bottom: 0;left: 50%;z-index: 0;}#sk-container-id-3 div.sk-serial {display: flex;flex-direction: column;align-items: center;background-color: white;padding-right: 0.2em;padding-left: 0.2em;position: relative;}#sk-container-id-3 div.sk-item {position: relative;z-index: 1;}#sk-container-id-3 div.sk-parallel {display: flex;align-items: stretch;justify-content: center;background-color: white;position: relative;}#sk-container-id-3 div.sk-item::before, #sk-container-id-3 div.sk-parallel-item::before {content: \"\";position: absolute;border-left: 1px solid gray;box-sizing: border-box;top: 0;bottom: 0;left: 50%;z-index: -1;}#sk-container-id-3 div.sk-parallel-item {display: flex;flex-direction: column;z-index: 1;position: relative;background-color: white;}#sk-container-id-3 div.sk-parallel-item:first-child::after {align-self: flex-end;width: 50%;}#sk-container-id-3 div.sk-parallel-item:last-child::after {align-self: flex-start;width: 50%;}#sk-container-id-3 div.sk-parallel-item:only-child::after {width: 0;}#sk-container-id-3 div.sk-dashed-wrapped {border: 1px dashed gray;margin: 0 0.4em 0.5em 0.4em;box-sizing: border-box;padding-bottom: 0.4em;background-color: white;}#sk-container-id-3 div.sk-label label {font-family: monospace;font-weight: bold;display: inline-block;line-height: 1.2em;}#sk-container-id-3 div.sk-label-container {text-align: center;}#sk-container-id-3 div.sk-container {/* jupyter's `normalize.less` sets `[hidden] { display: none; }` but bootstrap.min.css set `[hidden] { display: none !important; }` so we also need the `!important` here to be able to override the default hidden behavior on the sphinx rendered scikit-learn.org. See: https://github.com/scikit-learn/scikit-learn/issues/21755 */display: inline-block !important;position: relative;}#sk-container-id-3 div.sk-text-repr-fallback {display: none;}</style><div id=\"sk-container-id-3\" class=\"sk-top-container\"><div class=\"sk-text-repr-fallback\"><pre>LinearRegression()</pre><b>In a Jupyter environment, please rerun this cell to show the HTML representation or trust the notebook. <br />On GitHub, the HTML representation is unable to render, please try loading this page with nbviewer.org.</b></div><div class=\"sk-container\" hidden><div class=\"sk-item\"><div class=\"sk-estimator sk-toggleable\"><input class=\"sk-toggleable__control sk-hidden--visually\" id=\"sk-estimator-id-3\" type=\"checkbox\" checked><label for=\"sk-estimator-id-3\" class=\"sk-toggleable__label sk-toggleable__label-arrow\">LinearRegression</label><div class=\"sk-toggleable__content\"><pre>LinearRegression()</pre></div></div></div></div></div>"
      ],
      "text/plain": [
       "LinearRegression()"
      ]
     },
     "execution_count": 47,
     "metadata": {},
     "output_type": "execute_result"
    }
   ],
   "source": [
    "from sklearn.linear_model import LinearRegression\n",
    "lr = LinearRegression()\n",
    "lr.fit(x_train_ss, y_train)"
   ]
  },
  {
   "cell_type": "code",
   "execution_count": 48,
   "id": "a3edc5f4",
   "metadata": {},
   "outputs": [],
   "source": [
    "y_pred = lr.predict(x_train_ss)"
   ]
  },
  {
   "cell_type": "code",
   "execution_count": 49,
   "id": "311453ae",
   "metadata": {},
   "outputs": [
    {
     "name": "stdout",
     "output_type": "stream",
     "text": [
      "linear training  score:  0.4453914164754449\n",
      "linear testing score:  0.4902747807961825\n"
     ]
    }
   ],
   "source": [
    "print(\"linear training  score: \",lr.score(x_train_ss, y_train))\n",
    "print(\"linear testing score: \",lr.score(x_test_ss, y_test))\n",
    "accuracylis.append(lr.score(x_train_ss, y_train))\n"
   ]
  },
  {
   "cell_type": "code",
   "execution_count": 50,
   "id": "4e8116cd",
   "metadata": {},
   "outputs": [],
   "source": [
    "from sklearn.neighbors import KNeighborsRegressor\n",
    "from sklearn.ensemble import RandomForestRegressor\n",
    "from sklearn.ensemble import AdaBoostRegressor"
   ]
  },
  {
   "cell_type": "code",
   "execution_count": 51,
   "id": "f41b5da3",
   "metadata": {},
   "outputs": [],
   "source": [
    "models = pd.DataFrame(index=['train_mse', 'test_mse'], \n",
    "                      columns=['KNN', 'RandomForest', 'Boosting'])"
   ]
  },
  {
   "cell_type": "code",
   "execution_count": 52,
   "id": "15270bda",
   "metadata": {},
   "outputs": [],
   "source": [
    "from sklearn.neighbors import KNeighborsRegressor\n",
    "from sklearn.metrics import mean_squared_error\n",
    " \n",
    "knn = KNeighborsRegressor(n_neighbors=10)\n",
    "knn.fit(x_train_ss, y_train)\n",
    " \n",
    "models.loc['train_mse','knn'] = mean_squared_error(y_pred = knn.predict(x_train_ss), y_true=y_train)\n"
   ]
  },
  {
   "cell_type": "code",
   "execution_count": 53,
   "id": "6d38fa72",
   "metadata": {},
   "outputs": [
    {
     "name": "stdout",
     "output_type": "stream",
     "text": [
      "Knn score traing:  0.5283444912953088\n",
      "Knn test traing:  0.4709069614452327\n"
     ]
    }
   ],
   "source": [
    "y_pred = knn.predict(x_train_ss)\n",
    "print(\"Knn score traing: \",knn.score(x_train_ss, y_train))\n",
    "print(\"Knn test traing: \",knn.score(x_test_ss, y_test))\n",
    "accuracylis.append(knn.score(x_train_ss, y_train))"
   ]
  },
  {
   "cell_type": "code",
   "execution_count": 54,
   "id": "15654194",
   "metadata": {},
   "outputs": [
    {
     "name": "stderr",
     "output_type": "stream",
     "text": [
      "C:\\Users\\dy0119\\AppData\\Local\\Temp\\ipykernel_18224\\1842676734.py:5: DataConversionWarning: A column-vector y was passed when a 1d array was expected. Please change the shape of y to (n_samples,), for example using ravel().\n",
      "  RF.fit(x_train_ss, y_train)\n"
     ]
    }
   ],
   "source": [
    "from sklearn.ensemble import RandomForestRegressor\n",
    " \n",
    "\n",
    "RF = RandomForestRegressor(n_estimators=50, max_depth=16, random_state=55, n_jobs=-1)\n",
    "RF.fit(x_train_ss, y_train)\n",
    " \n",
    "models.loc['train_mse','RandomForest'] = mean_squared_error(y_pred=RF.predict(x_train_ss), y_true=y_train)"
   ]
  },
  {
   "cell_type": "code",
   "execution_count": 55,
   "id": "cf0a7be0",
   "metadata": {},
   "outputs": [
    {
     "name": "stderr",
     "output_type": "stream",
     "text": [
      "C:\\Users\\dy0119\\AppData\\Roaming\\Python\\Python39\\site-packages\\sklearn\\utils\\validation.py:1111: DataConversionWarning: A column-vector y was passed when a 1d array was expected. Please change the shape of y to (n_samples, ), for example using ravel().\n",
      "  y = column_or_1d(y, warn=True)\n"
     ]
    }
   ],
   "source": [
    "from sklearn.ensemble import AdaBoostRegressor\n",
    " \n",
    "boosting = AdaBoostRegressor(learning_rate=0.05, random_state=55)                             \n",
    "boosting.fit(x_train_ss, y_train)\n",
    "models.loc['train_mse','Boosting'] = mean_squared_error(y_pred=boosting.predict(x_train_ss), y_true=y_train)"
   ]
  },
  {
   "cell_type": "code",
   "execution_count": 56,
   "id": "5b343587",
   "metadata": {},
   "outputs": [
    {
     "name": "stdout",
     "output_type": "stream",
     "text": [
      "AdaBoostRegressor score traing:  0.45697078268804203\n",
      "AdaBoostRegressor test traing:  0.47426867860785915\n"
     ]
    }
   ],
   "source": [
    "y_pred = boosting.predict(x_train_ss)\n",
    "print(\"AdaBoostRegressor score traing: \",boosting.score(x_train_ss, y_train))\n",
    "print(\"AdaBoostRegressor test traing: \",boosting.score(x_test_ss, y_test))\n",
    "accuracylis.append(boosting.score(x_train_ss, y_train))"
   ]
  },
  {
   "cell_type": "code",
   "execution_count": 57,
   "id": "882a987c",
   "metadata": {},
   "outputs": [
    {
     "name": "stderr",
     "output_type": "stream",
     "text": [
      "C:\\Users\\dy0119\\AppData\\Roaming\\Python\\Python39\\site-packages\\sklearn\\base.py:443: UserWarning: X has feature names, but KNeighborsRegressor was fitted without feature names\n",
      "  warnings.warn(\n",
      "C:\\Users\\dy0119\\AppData\\Roaming\\Python\\Python39\\site-packages\\sklearn\\base.py:443: UserWarning: X has feature names, but KNeighborsRegressor was fitted without feature names\n",
      "  warnings.warn(\n",
      "C:\\Users\\dy0119\\AppData\\Roaming\\Python\\Python39\\site-packages\\sklearn\\base.py:443: UserWarning: X has feature names, but RandomForestRegressor was fitted without feature names\n",
      "  warnings.warn(\n",
      "C:\\Users\\dy0119\\AppData\\Roaming\\Python\\Python39\\site-packages\\sklearn\\base.py:443: UserWarning: X has feature names, but RandomForestRegressor was fitted without feature names\n",
      "  warnings.warn(\n",
      "C:\\Users\\dy0119\\AppData\\Roaming\\Python\\Python39\\site-packages\\sklearn\\base.py:443: UserWarning: X has feature names, but AdaBoostRegressor was fitted without feature names\n",
      "  warnings.warn(\n",
      "C:\\Users\\dy0119\\AppData\\Roaming\\Python\\Python39\\site-packages\\sklearn\\base.py:443: UserWarning: X has feature names, but AdaBoostRegressor was fitted without feature names\n",
      "  warnings.warn(\n"
     ]
    },
    {
     "data": {
      "text/html": [
       "<div>\n",
       "<style scoped>\n",
       "    .dataframe tbody tr th:only-of-type {\n",
       "        vertical-align: middle;\n",
       "    }\n",
       "\n",
       "    .dataframe tbody tr th {\n",
       "        vertical-align: top;\n",
       "    }\n",
       "\n",
       "    .dataframe thead th {\n",
       "        text-align: right;\n",
       "    }\n",
       "</style>\n",
       "<table border=\"1\" class=\"dataframe\">\n",
       "  <thead>\n",
       "    <tr style=\"text-align: right;\">\n",
       "      <th></th>\n",
       "      <th>train</th>\n",
       "      <th>test</th>\n",
       "    </tr>\n",
       "  </thead>\n",
       "  <tbody>\n",
       "    <tr>\n",
       "      <th>KNN</th>\n",
       "      <td>5901.327334</td>\n",
       "      <td>6365.006016</td>\n",
       "    </tr>\n",
       "    <tr>\n",
       "      <th>RF</th>\n",
       "      <td>4309.391998</td>\n",
       "      <td>4743.620262</td>\n",
       "    </tr>\n",
       "    <tr>\n",
       "      <th>Boosting</th>\n",
       "      <td>3306.647836</td>\n",
       "      <td>3615.785453</td>\n",
       "    </tr>\n",
       "  </tbody>\n",
       "</table>\n",
       "</div>"
      ],
      "text/plain": [
       "                train         test\n",
       "KNN       5901.327334  6365.006016\n",
       "RF        4309.391998  4743.620262\n",
       "Boosting  3306.647836  3615.785453"
      ]
     },
     "execution_count": 57,
     "metadata": {},
     "output_type": "execute_result"
    }
   ],
   "source": [
    "\n",
    "mse = pd.DataFrame(columns=['train', 'test'], index=['KNN','RF','Boosting'])\n",
    " \n",
    "\n",
    "model_dict = {'KNN': knn, 'RF': RF, 'Boosting': boosting}\n",
    " \n",
    "\n",
    "for name, model in model_dict.items():\n",
    "    mse.loc[name, 'train'] = mean_squared_error(y_true=y_train, y_pred=model.predict(X_train))/1e3 \n",
    "    mse.loc[name, 'test'] = mean_squared_error(y_true=y_test, y_pred=model.predict(X_test))/1e3\n",
    "  \n",
    "\n",
    "mse"
   ]
  },
  {
   "cell_type": "code",
   "execution_count": 58,
   "id": "c22f972d",
   "metadata": {},
   "outputs": [
    {
     "name": "stdout",
     "output_type": "stream",
     "text": [
      "rr score:  0.445391258083783\n"
     ]
    }
   ],
   "source": [
    "from sklearn.linear_model import Ridge\n",
    "rr=Ridge()\n",
    "rr.fit(x_train_ss, y_train)\n",
    "y_pred = rr.predict(x_train_ss)\n",
    "print(\"rr score: \",rr.score(x_train_ss, y_train))\n",
    "accuracylis.append(rr.score(x_train_ss, y_train))"
   ]
  },
  {
   "cell_type": "code",
   "execution_count": 59,
   "id": "c85b96cf",
   "metadata": {},
   "outputs": [
    {
     "name": "stderr",
     "output_type": "stream",
     "text": [
      "C:\\Users\\dy0119\\AppData\\Local\\Temp\\ipykernel_18224\\801543274.py:3: DataConversionWarning: A column-vector y was passed when a 1d array was expected. Please change the shape of y to (n_samples,), for example using ravel().\n",
      "  rf.fit(x_train_ss, y_train)\n"
     ]
    },
    {
     "name": "stdout",
     "output_type": "stream",
     "text": [
      "rf training score:  0.9043150684306579\n"
     ]
    }
   ],
   "source": [
    "from sklearn.ensemble import RandomForestRegressor\n",
    "rf=RandomForestRegressor()\n",
    "rf.fit(x_train_ss, y_train)\n",
    "y_pred = rf.predict(x_train_ss)\n",
    "print(\"rf training score: \",rf.score(x_train_ss, y_train))\n",
    "accuracylis.append(rf.score(x_train_ss, y_train))"
   ]
  },
  {
   "cell_type": "code",
   "execution_count": 60,
   "id": "fccda053",
   "metadata": {},
   "outputs": [
    {
     "name": "stdout",
     "output_type": "stream",
     "text": [
      "rf testing score:  0.4782228177070663\n"
     ]
    }
   ],
   "source": [
    "print(\"rf testing score: \",rf.score(x_test_ss, y_test))"
   ]
  },
  {
   "cell_type": "code",
   "execution_count": 61,
   "id": "73de7999",
   "metadata": {},
   "outputs": [
    {
     "name": "stdout",
     "output_type": "stream",
     "text": [
      "gpc training score:  0.7968543244368135\n"
     ]
    }
   ],
   "source": [
    "from sklearn.gaussian_process import GaussianProcessRegressor\n",
    "gpc=GaussianProcessRegressor()\n",
    "gpc.fit(x_train_ss, y_train)\n",
    "y_pred = gpc.predict(x_train_ss)\n",
    "print(\"gpc training score: \",gpc.score(x_train_ss, y_train))\n",
    "accuracylis.append(gpc.score(x_train_ss, y_train))"
   ]
  },
  {
   "cell_type": "code",
   "execution_count": 62,
   "id": "26ac7575",
   "metadata": {},
   "outputs": [
    {
     "name": "stdout",
     "output_type": "stream",
     "text": [
      "gpc testing score:  -249462.10381850536\n"
     ]
    }
   ],
   "source": [
    "print(\"gpc testing score: \",gpc.score(x_test_ss, y_test))"
   ]
  },
  {
   "cell_type": "code",
   "execution_count": 63,
   "id": "1dd9b725",
   "metadata": {},
   "outputs": [],
   "source": [
    "from xgboost import XGBRegressor\n",
    "xgb= XGBRegressor()"
   ]
  },
  {
   "cell_type": "code",
   "execution_count": 64,
   "id": "20f1ab10",
   "metadata": {},
   "outputs": [
    {
     "name": "stdout",
     "output_type": "stream",
     "text": [
      "gpc training score:  0.8726816841861014\n"
     ]
    }
   ],
   "source": [
    "xgb.fit(x_train_ss, y_train)\n",
    "y_pred = xgb.predict(x_train_ss)\n",
    "print(\"gpc training score: \",xgb.score(x_train_ss, y_train))\n",
    "accuracylis.append(xgb.score(x_train_ss, y_train))"
   ]
  },
  {
   "cell_type": "code",
   "execution_count": 65,
   "id": "384b3ea0",
   "metadata": {},
   "outputs": [
    {
     "name": "stdout",
     "output_type": "stream",
     "text": [
      "xgb testing score:  0.4325196597628759\n"
     ]
    }
   ],
   "source": [
    "print(\"xgb testing score: \",xgb.score(x_test_ss, y_test))\n"
   ]
  },
  {
   "cell_type": "code",
   "execution_count": 66,
   "id": "b9e65ad9",
   "metadata": {},
   "outputs": [],
   "source": [
    "from catboost import CatBoostRegressor, Pool\n",
    "cb=CatBoostRegressor(iterations=200, verbose=False)\n"
   ]
  },
  {
   "cell_type": "code",
   "execution_count": 67,
   "id": "fd4b1abe",
   "metadata": {},
   "outputs": [
    {
     "name": "stdout",
     "output_type": "stream",
     "text": [
      "cb training score:  -3472.7339957455943\n"
     ]
    }
   ],
   "source": [
    "cb.fit(x_train_ss, y_train)\n",
    "y_pred = cb.predict(x_train_ss)\n",
    "print(\"cb training score: \",cb.score(x_train_ss, y_train))\n",
    "#accuracylis.append(cb.score(x_train_ss, y_train))"
   ]
  },
  {
   "cell_type": "code",
   "execution_count": 68,
   "id": "8ca34467",
   "metadata": {},
   "outputs": [
    {
     "name": "stdout",
     "output_type": "stream",
     "text": [
      "catboost testing score:  -1146.7392636781153\n"
     ]
    }
   ],
   "source": [
    "print(\"catboost testing score: \",cb.score(x_test_ss, y_test))"
   ]
  },
  {
   "cell_type": "code",
   "execution_count": 69,
   "id": "6ae55b4a",
   "metadata": {},
   "outputs": [
    {
     "data": {
      "image/png": "[encoded data removed]",
      "text/plain": [
       "<Figure size 720x360 with 1 Axes>"
      ]
     },
     "metadata": {
      "needs_background": "light"
     },
     "output_type": "display_data"
    }
   ],
   "source": [
    "import matplotlib.pyplot as plt\n",
    "models=['LinearRegression','KNN','AdaBoostRegressor','Ridge','RandomForestRegressor','GaussianProcessRegressor','XGBRegressor']\n",
    "fig=plt.figure(figsize=(10,5))\n",
    "plt.bar(models,accuracylis,color='g',width=0.3)\n",
    "plt.xlabel('Models')\n",
    "plt.ylabel('Accuracy')\n",
    "plt.title('Model Comparision')\n",
    "plt.xticks(rotation=90)\n",
    "plt.show()"
   ]
  },
  {
   "cell_type": "code",
   "execution_count": 70,
   "id": "ab83c91e",
   "metadata": {},
   "outputs": [
    {
     "name": "stdout",
     "output_type": "stream",
     "text": [
      "[0.4453914164754449, 0.5283444912953088, 0.45697078268804203, 0.445391258083783, 0.9043150684306579, 0.7968543244368135, 0.8726816841861014]\n"
     ]
    }
   ],
   "source": [
    "print(accuracylis)"
   ]
  },
  {
   "cell_type": "code",
   "execution_count": null,
   "id": "9dcdbc71",
   "metadata": {},
   "outputs": [],
   "source": []
  },
  {
   "cell_type": "code",
   "execution_count": null,
   "id": "430eca56",
   "metadata": {},
   "outputs": [],
   "source": []
  }
 ],
 "metadata": {
  "kernelspec": {
   "display_name": "Python 3 (ipykernel)",
   "language": "python",
   "name": "python3"
  },
  "language_info": {
   "codemirror_mode": {
    "name": "ipython",
    "version": 3
   },
   "file_extension": ".py",
   "mimetype": "text/x-python",
   "name": "python",
   "nbconvert_exporter": "python",
   "pygments_lexer": "ipython3",
   "version": "3.9.12"
  }
 },
 "nbformat": 4,
 "nbformat_minor": 5
}
